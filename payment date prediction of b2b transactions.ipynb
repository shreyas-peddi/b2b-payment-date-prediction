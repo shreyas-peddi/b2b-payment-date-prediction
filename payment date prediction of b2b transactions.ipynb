{
 "cells": [
  {
   "cell_type": "markdown",
   "metadata": {},
   "source": [
    "### Importing required libraries"
   ]
  },
  {
   "cell_type": "code",
   "execution_count": 1,
   "metadata": {},
   "outputs": [],
   "source": [
    "import warnings\n",
    "warnings.filterwarnings('ignore')\n",
    "\n",
    "import numpy as np\n",
    "import pandas as pd\n",
    "from sklearn.model_selection import train_test_split\n",
    "import seaborn as sns\n",
    "import matplotlib.pyplot as plt\n",
    "\n",
    "from sklearn.linear_model import LinearRegression\n",
    "from sklearn.svm import SVR\n",
    "from sklearn.tree import DecisionTreeRegressor\n",
    "from sklearn.ensemble import RandomForestRegressor\n",
    "import xgboost as xgb\n",
    "\n",
    "from sklearn.feature_selection import VarianceThreshold\n",
    "from sklearn.metrics import mean_squared_error\n",
    "from sklearn.metrics import r2_score\n",
    "from sklearn.preprocessing import LabelEncoder\n"
   ]
  },
  {
   "cell_type": "markdown",
   "metadata": {},
   "source": [
    "### Importing the CSV file"
   ]
  },
  {
   "cell_type": "code",
   "execution_count": 2,
   "metadata": {},
   "outputs": [],
   "source": [
    "data = pd.read_csv(\"H2HBABBA3163.csv\")"
   ]
  },
  {
   "cell_type": "markdown",
   "metadata": {},
   "source": [
    "#### Looking at the shape of data"
   ]
  },
  {
   "cell_type": "code",
   "execution_count": 3,
   "metadata": {},
   "outputs": [
    {
     "data": {
      "text/plain": [
       "(50000, 19)"
      ]
     },
     "execution_count": 3,
     "metadata": {},
     "output_type": "execute_result"
    }
   ],
   "source": [
    "data.shape"
   ]
  },
  {
   "cell_type": "markdown",
   "metadata": {},
   "source": [
    "#### Finding column in which data is not unique"
   ]
  },
  {
   "cell_type": "code",
   "execution_count": 4,
   "metadata": {},
   "outputs": [
    {
     "name": "stdout",
     "output_type": "stream",
     "text": [
      "['posting_id']\n"
     ]
    }
   ],
   "source": [
    "#finding the column which has same value through out the data\n",
    "unique_cols =  [x for x in data.columns if data[x].nunique()==1] \n",
    "print(unique_cols)"
   ]
  },
  {
   "cell_type": "code",
   "execution_count": 5,
   "metadata": {
    "scrolled": true
   },
   "outputs": [
    {
     "data": {
      "text/plain": [
       "Index(['business_code', 'cust_number', 'name_customer', 'clear_date',\n",
       "       'buisness_year', 'doc_id', 'posting_date', 'document_create_date',\n",
       "       'document_create_date.1', 'due_in_date', 'invoice_currency',\n",
       "       'document type', 'area_business', 'total_open_amount',\n",
       "       'baseline_create_date', 'cust_payment_terms', 'invoice_id', 'isOpen'],\n",
       "      dtype='object')"
      ]
     },
     "execution_count": 5,
     "metadata": {},
     "output_type": "execute_result"
    }
   ],
   "source": [
    "#removing the column with constant data\n",
    "data.drop(unique_cols,axis=1,inplace=True)\n",
    "data.columns"
   ]
  },
  {
   "cell_type": "markdown",
   "metadata": {},
   "source": [
    "#### Finding column which has null data"
   ]
  },
  {
   "cell_type": "code",
   "execution_count": 6,
   "metadata": {},
   "outputs": [
    {
     "data": {
      "text/plain": [
       "business_code             0.00000\n",
       "cust_number               0.00000\n",
       "name_customer             0.00000\n",
       "clear_date                0.20000\n",
       "buisness_year             0.00000\n",
       "doc_id                    0.00000\n",
       "posting_date              0.00000\n",
       "document_create_date      0.00000\n",
       "document_create_date.1    0.00000\n",
       "due_in_date               0.00000\n",
       "invoice_currency          0.00000\n",
       "document type             0.00000\n",
       "area_business             1.00000\n",
       "total_open_amount         0.00000\n",
       "baseline_create_date      0.00000\n",
       "cust_payment_terms        0.00000\n",
       "invoice_id                0.00012\n",
       "isOpen                    0.00000\n",
       "dtype: float64"
      ]
     },
     "execution_count": 6,
     "metadata": {},
     "output_type": "execute_result"
    }
   ],
   "source": [
    "#finding column with null value\n",
    "data.isnull().mean()"
   ]
  },
  {
   "cell_type": "code",
   "execution_count": 7,
   "metadata": {},
   "outputs": [
    {
     "data": {
      "text/plain": [
       "Index(['business_code', 'cust_number', 'name_customer', 'clear_date',\n",
       "       'buisness_year', 'doc_id', 'posting_date', 'document_create_date',\n",
       "       'document_create_date.1', 'due_in_date', 'invoice_currency',\n",
       "       'document type', 'total_open_amount', 'baseline_create_date',\n",
       "       'cust_payment_terms', 'invoice_id', 'isOpen'],\n",
       "      dtype='object')"
      ]
     },
     "execution_count": 7,
     "metadata": {},
     "output_type": "execute_result"
    }
   ],
   "source": [
    "#dropping column with null value\n",
    "#since area_bussiness has mean 1 it means it is entirely made of null hence it is to be removed.\n",
    "data.drop(['area_business'],axis=1,inplace=True)\n",
    "data.columns"
   ]
  },
  {
   "cell_type": "code",
   "execution_count": 8,
   "metadata": {
    "scrolled": true
   },
   "outputs": [
    {
     "data": {
      "text/html": [
       "<div>\n",
       "<style scoped>\n",
       "    .dataframe tbody tr th:only-of-type {\n",
       "        vertical-align: middle;\n",
       "    }\n",
       "\n",
       "    .dataframe tbody tr th {\n",
       "        vertical-align: top;\n",
       "    }\n",
       "\n",
       "    .dataframe thead th {\n",
       "        text-align: right;\n",
       "    }\n",
       "</style>\n",
       "<table border=\"1\" class=\"dataframe\">\n",
       "  <thead>\n",
       "    <tr style=\"text-align: right;\">\n",
       "      <th></th>\n",
       "      <th>business_code</th>\n",
       "      <th>cust_number</th>\n",
       "      <th>name_customer</th>\n",
       "      <th>clear_date</th>\n",
       "      <th>buisness_year</th>\n",
       "      <th>doc_id</th>\n",
       "      <th>posting_date</th>\n",
       "      <th>document_create_date</th>\n",
       "      <th>document_create_date.1</th>\n",
       "      <th>due_in_date</th>\n",
       "      <th>invoice_currency</th>\n",
       "      <th>document type</th>\n",
       "      <th>total_open_amount</th>\n",
       "      <th>baseline_create_date</th>\n",
       "      <th>cust_payment_terms</th>\n",
       "      <th>invoice_id</th>\n",
       "      <th>isOpen</th>\n",
       "    </tr>\n",
       "  </thead>\n",
       "  <tbody>\n",
       "    <tr>\n",
       "      <th>0</th>\n",
       "      <td>U001</td>\n",
       "      <td>0200769623</td>\n",
       "      <td>WAL-MAR</td>\n",
       "      <td>2019-06-05 00:00:00</td>\n",
       "      <td>2019.0</td>\n",
       "      <td>1.929378e+09</td>\n",
       "      <td>2019-05-26</td>\n",
       "      <td>20190525</td>\n",
       "      <td>20190526</td>\n",
       "      <td>20190610.0</td>\n",
       "      <td>USD</td>\n",
       "      <td>RV</td>\n",
       "      <td>74012.75</td>\n",
       "      <td>20190526.0</td>\n",
       "      <td>NAH4</td>\n",
       "      <td>1.929378e+09</td>\n",
       "      <td>0</td>\n",
       "    </tr>\n",
       "    <tr>\n",
       "      <th>1</th>\n",
       "      <td>U001</td>\n",
       "      <td>0200769623</td>\n",
       "      <td>WAL-MAR foundation</td>\n",
       "      <td>2019-02-08 00:00:00</td>\n",
       "      <td>2019.0</td>\n",
       "      <td>1.928703e+09</td>\n",
       "      <td>2019-01-29</td>\n",
       "      <td>20190129</td>\n",
       "      <td>20190129</td>\n",
       "      <td>20190213.0</td>\n",
       "      <td>USD</td>\n",
       "      <td>RV</td>\n",
       "      <td>14148.84</td>\n",
       "      <td>20190129.0</td>\n",
       "      <td>NAH4</td>\n",
       "      <td>1.928703e+09</td>\n",
       "      <td>0</td>\n",
       "    </tr>\n",
       "    <tr>\n",
       "      <th>2</th>\n",
       "      <td>U001</td>\n",
       "      <td>0200782001</td>\n",
       "      <td>GORDO trust</td>\n",
       "      <td>NaN</td>\n",
       "      <td>2020.0</td>\n",
       "      <td>1.930571e+09</td>\n",
       "      <td>2020-02-28</td>\n",
       "      <td>20200226</td>\n",
       "      <td>20200228</td>\n",
       "      <td>20200314.0</td>\n",
       "      <td>USD</td>\n",
       "      <td>RV</td>\n",
       "      <td>10314.24</td>\n",
       "      <td>20200228.0</td>\n",
       "      <td>NAA8</td>\n",
       "      <td>1.930571e+09</td>\n",
       "      <td>1</td>\n",
       "    </tr>\n",
       "    <tr>\n",
       "      <th>3</th>\n",
       "      <td>U001</td>\n",
       "      <td>0200772670</td>\n",
       "      <td>ASSOCIAT us</td>\n",
       "      <td>2019-07-05 00:00:00</td>\n",
       "      <td>2019.0</td>\n",
       "      <td>1.929517e+09</td>\n",
       "      <td>2019-06-19</td>\n",
       "      <td>20190619</td>\n",
       "      <td>20190619</td>\n",
       "      <td>20190704.0</td>\n",
       "      <td>USD</td>\n",
       "      <td>RV</td>\n",
       "      <td>2952.77</td>\n",
       "      <td>20190619.0</td>\n",
       "      <td>NAU5</td>\n",
       "      <td>1.929517e+09</td>\n",
       "      <td>0</td>\n",
       "    </tr>\n",
       "    <tr>\n",
       "      <th>4</th>\n",
       "      <td>U001</td>\n",
       "      <td>CCU002</td>\n",
       "      <td>KRFT FDS co</td>\n",
       "      <td>2019-05-31 00:00:00</td>\n",
       "      <td>2019.0</td>\n",
       "      <td>1.929107e+09</td>\n",
       "      <td>2019-04-10</td>\n",
       "      <td>20190408</td>\n",
       "      <td>20190410</td>\n",
       "      <td>20190515.0</td>\n",
       "      <td>USD</td>\n",
       "      <td>RV</td>\n",
       "      <td>11562.16</td>\n",
       "      <td>20190410.0</td>\n",
       "      <td>NAG2</td>\n",
       "      <td>1.929107e+09</td>\n",
       "      <td>0</td>\n",
       "    </tr>\n",
       "  </tbody>\n",
       "</table>\n",
       "</div>"
      ],
      "text/plain": [
       "  business_code cust_number       name_customer           clear_date  \\\n",
       "0          U001  0200769623            WAL-MAR   2019-06-05 00:00:00   \n",
       "1          U001  0200769623  WAL-MAR foundation  2019-02-08 00:00:00   \n",
       "2          U001  0200782001         GORDO trust                  NaN   \n",
       "3          U001  0200772670         ASSOCIAT us  2019-07-05 00:00:00   \n",
       "4          U001      CCU002         KRFT FDS co  2019-05-31 00:00:00   \n",
       "\n",
       "   buisness_year        doc_id posting_date  document_create_date  \\\n",
       "0         2019.0  1.929378e+09   2019-05-26              20190525   \n",
       "1         2019.0  1.928703e+09   2019-01-29              20190129   \n",
       "2         2020.0  1.930571e+09   2020-02-28              20200226   \n",
       "3         2019.0  1.929517e+09   2019-06-19              20190619   \n",
       "4         2019.0  1.929107e+09   2019-04-10              20190408   \n",
       "\n",
       "   document_create_date.1  due_in_date invoice_currency document type  \\\n",
       "0                20190526   20190610.0              USD            RV   \n",
       "1                20190129   20190213.0              USD            RV   \n",
       "2                20200228   20200314.0              USD            RV   \n",
       "3                20190619   20190704.0              USD            RV   \n",
       "4                20190410   20190515.0              USD            RV   \n",
       "\n",
       "   total_open_amount  baseline_create_date cust_payment_terms    invoice_id  \\\n",
       "0           74012.75            20190526.0               NAH4  1.929378e+09   \n",
       "1           14148.84            20190129.0               NAH4  1.928703e+09   \n",
       "2           10314.24            20200228.0               NAA8  1.930571e+09   \n",
       "3            2952.77            20190619.0               NAU5  1.929517e+09   \n",
       "4           11562.16            20190410.0               NAG2  1.929107e+09   \n",
       "\n",
       "   isOpen  \n",
       "0       0  \n",
       "1       0  \n",
       "2       1  \n",
       "3       0  \n",
       "4       0  "
      ]
     },
     "execution_count": 8,
     "metadata": {},
     "output_type": "execute_result"
    }
   ],
   "source": [
    "data.head()"
   ]
  },
  {
   "cell_type": "markdown",
   "metadata": {},
   "source": [
    "#### converting dates in int64 into datetime objects with format yyyy-mm-dd"
   ]
  },
  {
   "cell_type": "code",
   "execution_count": 9,
   "metadata": {},
   "outputs": [
    {
     "data": {
      "text/html": [
       "<div>\n",
       "<style scoped>\n",
       "    .dataframe tbody tr th:only-of-type {\n",
       "        vertical-align: middle;\n",
       "    }\n",
       "\n",
       "    .dataframe tbody tr th {\n",
       "        vertical-align: top;\n",
       "    }\n",
       "\n",
       "    .dataframe thead th {\n",
       "        text-align: right;\n",
       "    }\n",
       "</style>\n",
       "<table border=\"1\" class=\"dataframe\">\n",
       "  <thead>\n",
       "    <tr style=\"text-align: right;\">\n",
       "      <th></th>\n",
       "      <th>business_code</th>\n",
       "      <th>cust_number</th>\n",
       "      <th>name_customer</th>\n",
       "      <th>clear_date</th>\n",
       "      <th>buisness_year</th>\n",
       "      <th>doc_id</th>\n",
       "      <th>posting_date</th>\n",
       "      <th>document_create_date</th>\n",
       "      <th>document_create_date.1</th>\n",
       "      <th>due_in_date</th>\n",
       "      <th>invoice_currency</th>\n",
       "      <th>document type</th>\n",
       "      <th>total_open_amount</th>\n",
       "      <th>baseline_create_date</th>\n",
       "      <th>cust_payment_terms</th>\n",
       "      <th>invoice_id</th>\n",
       "      <th>isOpen</th>\n",
       "    </tr>\n",
       "  </thead>\n",
       "  <tbody>\n",
       "    <tr>\n",
       "      <th>0</th>\n",
       "      <td>U001</td>\n",
       "      <td>0200769623</td>\n",
       "      <td>WAL-MAR</td>\n",
       "      <td>2019-06-05</td>\n",
       "      <td>2019.0</td>\n",
       "      <td>1.929378e+09</td>\n",
       "      <td>2019-05-26</td>\n",
       "      <td>2019-05-25</td>\n",
       "      <td>2019-05-26</td>\n",
       "      <td>2019-06-10</td>\n",
       "      <td>USD</td>\n",
       "      <td>RV</td>\n",
       "      <td>74012.75</td>\n",
       "      <td>2019-05-26</td>\n",
       "      <td>NAH4</td>\n",
       "      <td>1.929378e+09</td>\n",
       "      <td>0</td>\n",
       "    </tr>\n",
       "    <tr>\n",
       "      <th>1</th>\n",
       "      <td>U001</td>\n",
       "      <td>0200769623</td>\n",
       "      <td>WAL-MAR foundation</td>\n",
       "      <td>2019-02-08</td>\n",
       "      <td>2019.0</td>\n",
       "      <td>1.928703e+09</td>\n",
       "      <td>2019-01-29</td>\n",
       "      <td>2019-01-29</td>\n",
       "      <td>2019-01-29</td>\n",
       "      <td>2019-02-13</td>\n",
       "      <td>USD</td>\n",
       "      <td>RV</td>\n",
       "      <td>14148.84</td>\n",
       "      <td>2019-01-29</td>\n",
       "      <td>NAH4</td>\n",
       "      <td>1.928703e+09</td>\n",
       "      <td>0</td>\n",
       "    </tr>\n",
       "    <tr>\n",
       "      <th>2</th>\n",
       "      <td>U001</td>\n",
       "      <td>0200782001</td>\n",
       "      <td>GORDO trust</td>\n",
       "      <td>NaT</td>\n",
       "      <td>2020.0</td>\n",
       "      <td>1.930571e+09</td>\n",
       "      <td>2020-02-28</td>\n",
       "      <td>2020-02-26</td>\n",
       "      <td>2020-02-28</td>\n",
       "      <td>2020-03-14</td>\n",
       "      <td>USD</td>\n",
       "      <td>RV</td>\n",
       "      <td>10314.24</td>\n",
       "      <td>2020-02-28</td>\n",
       "      <td>NAA8</td>\n",
       "      <td>1.930571e+09</td>\n",
       "      <td>1</td>\n",
       "    </tr>\n",
       "    <tr>\n",
       "      <th>3</th>\n",
       "      <td>U001</td>\n",
       "      <td>0200772670</td>\n",
       "      <td>ASSOCIAT us</td>\n",
       "      <td>2019-07-05</td>\n",
       "      <td>2019.0</td>\n",
       "      <td>1.929517e+09</td>\n",
       "      <td>2019-06-19</td>\n",
       "      <td>2019-06-19</td>\n",
       "      <td>2019-06-19</td>\n",
       "      <td>2019-07-04</td>\n",
       "      <td>USD</td>\n",
       "      <td>RV</td>\n",
       "      <td>2952.77</td>\n",
       "      <td>2019-06-19</td>\n",
       "      <td>NAU5</td>\n",
       "      <td>1.929517e+09</td>\n",
       "      <td>0</td>\n",
       "    </tr>\n",
       "    <tr>\n",
       "      <th>4</th>\n",
       "      <td>U001</td>\n",
       "      <td>CCU002</td>\n",
       "      <td>KRFT FDS co</td>\n",
       "      <td>2019-05-31</td>\n",
       "      <td>2019.0</td>\n",
       "      <td>1.929107e+09</td>\n",
       "      <td>2019-04-10</td>\n",
       "      <td>2019-04-08</td>\n",
       "      <td>2019-04-10</td>\n",
       "      <td>2019-05-15</td>\n",
       "      <td>USD</td>\n",
       "      <td>RV</td>\n",
       "      <td>11562.16</td>\n",
       "      <td>2019-04-10</td>\n",
       "      <td>NAG2</td>\n",
       "      <td>1.929107e+09</td>\n",
       "      <td>0</td>\n",
       "    </tr>\n",
       "  </tbody>\n",
       "</table>\n",
       "</div>"
      ],
      "text/plain": [
       "  business_code cust_number       name_customer clear_date  buisness_year  \\\n",
       "0          U001  0200769623            WAL-MAR  2019-06-05         2019.0   \n",
       "1          U001  0200769623  WAL-MAR foundation 2019-02-08         2019.0   \n",
       "2          U001  0200782001         GORDO trust        NaT         2020.0   \n",
       "3          U001  0200772670         ASSOCIAT us 2019-07-05         2019.0   \n",
       "4          U001      CCU002         KRFT FDS co 2019-05-31         2019.0   \n",
       "\n",
       "         doc_id posting_date document_create_date document_create_date.1  \\\n",
       "0  1.929378e+09   2019-05-26           2019-05-25             2019-05-26   \n",
       "1  1.928703e+09   2019-01-29           2019-01-29             2019-01-29   \n",
       "2  1.930571e+09   2020-02-28           2020-02-26             2020-02-28   \n",
       "3  1.929517e+09   2019-06-19           2019-06-19             2019-06-19   \n",
       "4  1.929107e+09   2019-04-10           2019-04-08             2019-04-10   \n",
       "\n",
       "  due_in_date invoice_currency document type  total_open_amount  \\\n",
       "0  2019-06-10              USD            RV           74012.75   \n",
       "1  2019-02-13              USD            RV           14148.84   \n",
       "2  2020-03-14              USD            RV           10314.24   \n",
       "3  2019-07-04              USD            RV            2952.77   \n",
       "4  2019-05-15              USD            RV           11562.16   \n",
       "\n",
       "  baseline_create_date cust_payment_terms    invoice_id  isOpen  \n",
       "0           2019-05-26               NAH4  1.929378e+09       0  \n",
       "1           2019-01-29               NAH4  1.928703e+09       0  \n",
       "2           2020-02-28               NAA8  1.930571e+09       1  \n",
       "3           2019-06-19               NAU5  1.929517e+09       0  \n",
       "4           2019-04-10               NAG2  1.929107e+09       0  "
      ]
     },
     "execution_count": 9,
     "metadata": {},
     "output_type": "execute_result"
    }
   ],
   "source": [
    "data['document_create_date'] = pd.to_datetime(data['document_create_date'], format='%Y%m%d')\n",
    "data['document_create_date.1'] = pd.to_datetime(data['document_create_date.1'], format='%Y%m%d')\n",
    "data['due_in_date'] = pd.to_datetime(data['due_in_date'], format='%Y%m%d')\n",
    "data['baseline_create_date'] = pd.to_datetime(data['baseline_create_date'], format='%Y%m%d')\n",
    "data['clear_date'] = pd.to_datetime(data['clear_date'])\n",
    "data['posting_date'] = pd.to_datetime(data['posting_date'])\n",
    "data.head()"
   ]
  },
  {
   "cell_type": "markdown",
   "metadata": {},
   "source": [
    "#### searching and removing rows with duplicate data"
   ]
  },
  {
   "cell_type": "code",
   "execution_count": 10,
   "metadata": {},
   "outputs": [
    {
     "data": {
      "text/plain": [
       "1126"
      ]
     },
     "execution_count": 10,
     "metadata": {},
     "output_type": "execute_result"
    }
   ],
   "source": [
    "data.duplicated().sum()"
   ]
  },
  {
   "cell_type": "code",
   "execution_count": 11,
   "metadata": {},
   "outputs": [],
   "source": [
    "data.drop_duplicates(keep='first',inplace=True)"
   ]
  },
  {
   "cell_type": "code",
   "execution_count": 12,
   "metadata": {
    "scrolled": true
   },
   "outputs": [
    {
     "data": {
      "text/plain": [
       "(48874, 17)"
      ]
     },
     "execution_count": 12,
     "metadata": {},
     "output_type": "execute_result"
    }
   ],
   "source": [
    "data.shape"
   ]
  },
  {
   "cell_type": "code",
   "execution_count": 13,
   "metadata": {},
   "outputs": [
    {
     "data": {
      "text/html": [
       "<div>\n",
       "<style scoped>\n",
       "    .dataframe tbody tr th:only-of-type {\n",
       "        vertical-align: middle;\n",
       "    }\n",
       "\n",
       "    .dataframe tbody tr th {\n",
       "        vertical-align: top;\n",
       "    }\n",
       "\n",
       "    .dataframe thead th {\n",
       "        text-align: right;\n",
       "    }\n",
       "</style>\n",
       "<table border=\"1\" class=\"dataframe\">\n",
       "  <thead>\n",
       "    <tr style=\"text-align: right;\">\n",
       "      <th></th>\n",
       "      <th>business_code</th>\n",
       "      <th>cust_number</th>\n",
       "      <th>name_customer</th>\n",
       "      <th>clear_date</th>\n",
       "      <th>buisness_year</th>\n",
       "      <th>doc_id</th>\n",
       "      <th>posting_date</th>\n",
       "      <th>document_create_date</th>\n",
       "      <th>document_create_date.1</th>\n",
       "      <th>due_in_date</th>\n",
       "      <th>invoice_currency</th>\n",
       "      <th>document type</th>\n",
       "      <th>total_open_amount</th>\n",
       "      <th>baseline_create_date</th>\n",
       "      <th>cust_payment_terms</th>\n",
       "      <th>invoice_id</th>\n",
       "      <th>isOpen</th>\n",
       "    </tr>\n",
       "  </thead>\n",
       "  <tbody>\n",
       "    <tr>\n",
       "      <th>0</th>\n",
       "      <td>U001</td>\n",
       "      <td>0200769623</td>\n",
       "      <td>WAL-MAR</td>\n",
       "      <td>2019-06-05</td>\n",
       "      <td>2019.0</td>\n",
       "      <td>1.929378e+09</td>\n",
       "      <td>2019-05-26</td>\n",
       "      <td>2019-05-25</td>\n",
       "      <td>2019-05-26</td>\n",
       "      <td>2019-06-10</td>\n",
       "      <td>USD</td>\n",
       "      <td>RV</td>\n",
       "      <td>74012.75</td>\n",
       "      <td>2019-05-26</td>\n",
       "      <td>NAH4</td>\n",
       "      <td>1.929378e+09</td>\n",
       "      <td>0</td>\n",
       "    </tr>\n",
       "    <tr>\n",
       "      <th>1</th>\n",
       "      <td>U001</td>\n",
       "      <td>0200769623</td>\n",
       "      <td>WAL-MAR foundation</td>\n",
       "      <td>2019-02-08</td>\n",
       "      <td>2019.0</td>\n",
       "      <td>1.928703e+09</td>\n",
       "      <td>2019-01-29</td>\n",
       "      <td>2019-01-29</td>\n",
       "      <td>2019-01-29</td>\n",
       "      <td>2019-02-13</td>\n",
       "      <td>USD</td>\n",
       "      <td>RV</td>\n",
       "      <td>14148.84</td>\n",
       "      <td>2019-01-29</td>\n",
       "      <td>NAH4</td>\n",
       "      <td>1.928703e+09</td>\n",
       "      <td>0</td>\n",
       "    </tr>\n",
       "    <tr>\n",
       "      <th>2</th>\n",
       "      <td>U001</td>\n",
       "      <td>0200782001</td>\n",
       "      <td>GORDO trust</td>\n",
       "      <td>NaT</td>\n",
       "      <td>2020.0</td>\n",
       "      <td>1.930571e+09</td>\n",
       "      <td>2020-02-28</td>\n",
       "      <td>2020-02-26</td>\n",
       "      <td>2020-02-28</td>\n",
       "      <td>2020-03-14</td>\n",
       "      <td>USD</td>\n",
       "      <td>RV</td>\n",
       "      <td>10314.24</td>\n",
       "      <td>2020-02-28</td>\n",
       "      <td>NAA8</td>\n",
       "      <td>1.930571e+09</td>\n",
       "      <td>1</td>\n",
       "    </tr>\n",
       "    <tr>\n",
       "      <th>3</th>\n",
       "      <td>U001</td>\n",
       "      <td>0200772670</td>\n",
       "      <td>ASSOCIAT us</td>\n",
       "      <td>2019-07-05</td>\n",
       "      <td>2019.0</td>\n",
       "      <td>1.929517e+09</td>\n",
       "      <td>2019-06-19</td>\n",
       "      <td>2019-06-19</td>\n",
       "      <td>2019-06-19</td>\n",
       "      <td>2019-07-04</td>\n",
       "      <td>USD</td>\n",
       "      <td>RV</td>\n",
       "      <td>2952.77</td>\n",
       "      <td>2019-06-19</td>\n",
       "      <td>NAU5</td>\n",
       "      <td>1.929517e+09</td>\n",
       "      <td>0</td>\n",
       "    </tr>\n",
       "    <tr>\n",
       "      <th>4</th>\n",
       "      <td>U001</td>\n",
       "      <td>CCU002</td>\n",
       "      <td>KRFT FDS co</td>\n",
       "      <td>2019-05-31</td>\n",
       "      <td>2019.0</td>\n",
       "      <td>1.929107e+09</td>\n",
       "      <td>2019-04-10</td>\n",
       "      <td>2019-04-08</td>\n",
       "      <td>2019-04-10</td>\n",
       "      <td>2019-05-15</td>\n",
       "      <td>USD</td>\n",
       "      <td>RV</td>\n",
       "      <td>11562.16</td>\n",
       "      <td>2019-04-10</td>\n",
       "      <td>NAG2</td>\n",
       "      <td>1.929107e+09</td>\n",
       "      <td>0</td>\n",
       "    </tr>\n",
       "    <tr>\n",
       "      <th>5</th>\n",
       "      <td>U001</td>\n",
       "      <td>0200726979</td>\n",
       "      <td>BJ'S  corporation</td>\n",
       "      <td>2019-10-23</td>\n",
       "      <td>2019.0</td>\n",
       "      <td>1.929981e+09</td>\n",
       "      <td>2019-10-08</td>\n",
       "      <td>2019-10-07</td>\n",
       "      <td>2019-10-08</td>\n",
       "      <td>2019-10-23</td>\n",
       "      <td>USD</td>\n",
       "      <td>RV</td>\n",
       "      <td>257.30</td>\n",
       "      <td>2019-10-08</td>\n",
       "      <td>NAA8</td>\n",
       "      <td>1.929981e+09</td>\n",
       "      <td>0</td>\n",
       "    </tr>\n",
       "    <tr>\n",
       "      <th>6</th>\n",
       "      <td>U001</td>\n",
       "      <td>0200726979</td>\n",
       "      <td>BJ'S  trust</td>\n",
       "      <td>2019-06-25</td>\n",
       "      <td>2019.0</td>\n",
       "      <td>1.929461e+09</td>\n",
       "      <td>2019-06-10</td>\n",
       "      <td>2019-06-09</td>\n",
       "      <td>2019-06-10</td>\n",
       "      <td>2019-06-25</td>\n",
       "      <td>USD</td>\n",
       "      <td>RV</td>\n",
       "      <td>1061.39</td>\n",
       "      <td>2019-06-10</td>\n",
       "      <td>NAA8</td>\n",
       "      <td>1.929461e+09</td>\n",
       "      <td>0</td>\n",
       "    </tr>\n",
       "    <tr>\n",
       "      <th>7</th>\n",
       "      <td>U001</td>\n",
       "      <td>0200726979</td>\n",
       "      <td>BJ'S  llc</td>\n",
       "      <td>NaT</td>\n",
       "      <td>2020.0</td>\n",
       "      <td>1.930688e+09</td>\n",
       "      <td>2020-03-25</td>\n",
       "      <td>2020-03-23</td>\n",
       "      <td>2020-03-25</td>\n",
       "      <td>2020-04-09</td>\n",
       "      <td>USD</td>\n",
       "      <td>RV</td>\n",
       "      <td>39394.40</td>\n",
       "      <td>2020-03-25</td>\n",
       "      <td>NAA8</td>\n",
       "      <td>1.930688e+09</td>\n",
       "      <td>1</td>\n",
       "    </tr>\n",
       "    <tr>\n",
       "      <th>8</th>\n",
       "      <td>U001</td>\n",
       "      <td>0200230690</td>\n",
       "      <td>DECA corp</td>\n",
       "      <td>2019-01-15</td>\n",
       "      <td>2019.0</td>\n",
       "      <td>1.928560e+09</td>\n",
       "      <td>2019-01-03</td>\n",
       "      <td>2019-01-03</td>\n",
       "      <td>2019-01-03</td>\n",
       "      <td>2019-01-24</td>\n",
       "      <td>USD</td>\n",
       "      <td>RV</td>\n",
       "      <td>8106.68</td>\n",
       "      <td>2019-01-01</td>\n",
       "      <td>NAM4</td>\n",
       "      <td>1.928560e+09</td>\n",
       "      <td>0</td>\n",
       "    </tr>\n",
       "    <tr>\n",
       "      <th>9</th>\n",
       "      <td>U001</td>\n",
       "      <td>0200769623</td>\n",
       "      <td>WAL-MAR corporation</td>\n",
       "      <td>2019-01-18</td>\n",
       "      <td>2019.0</td>\n",
       "      <td>1.928578e+09</td>\n",
       "      <td>2019-01-06</td>\n",
       "      <td>2019-01-05</td>\n",
       "      <td>2019-01-06</td>\n",
       "      <td>2019-01-21</td>\n",
       "      <td>USD</td>\n",
       "      <td>RV</td>\n",
       "      <td>17195.45</td>\n",
       "      <td>2019-01-06</td>\n",
       "      <td>NAH4</td>\n",
       "      <td>1.928578e+09</td>\n",
       "      <td>0</td>\n",
       "    </tr>\n",
       "  </tbody>\n",
       "</table>\n",
       "</div>"
      ],
      "text/plain": [
       "  business_code cust_number        name_customer clear_date  buisness_year  \\\n",
       "0          U001  0200769623             WAL-MAR  2019-06-05         2019.0   \n",
       "1          U001  0200769623   WAL-MAR foundation 2019-02-08         2019.0   \n",
       "2          U001  0200782001          GORDO trust        NaT         2020.0   \n",
       "3          U001  0200772670          ASSOCIAT us 2019-07-05         2019.0   \n",
       "4          U001      CCU002          KRFT FDS co 2019-05-31         2019.0   \n",
       "5          U001  0200726979    BJ'S  corporation 2019-10-23         2019.0   \n",
       "6          U001  0200726979          BJ'S  trust 2019-06-25         2019.0   \n",
       "7          U001  0200726979            BJ'S  llc        NaT         2020.0   \n",
       "8          U001  0200230690            DECA corp 2019-01-15         2019.0   \n",
       "9          U001  0200769623  WAL-MAR corporation 2019-01-18         2019.0   \n",
       "\n",
       "         doc_id posting_date document_create_date document_create_date.1  \\\n",
       "0  1.929378e+09   2019-05-26           2019-05-25             2019-05-26   \n",
       "1  1.928703e+09   2019-01-29           2019-01-29             2019-01-29   \n",
       "2  1.930571e+09   2020-02-28           2020-02-26             2020-02-28   \n",
       "3  1.929517e+09   2019-06-19           2019-06-19             2019-06-19   \n",
       "4  1.929107e+09   2019-04-10           2019-04-08             2019-04-10   \n",
       "5  1.929981e+09   2019-10-08           2019-10-07             2019-10-08   \n",
       "6  1.929461e+09   2019-06-10           2019-06-09             2019-06-10   \n",
       "7  1.930688e+09   2020-03-25           2020-03-23             2020-03-25   \n",
       "8  1.928560e+09   2019-01-03           2019-01-03             2019-01-03   \n",
       "9  1.928578e+09   2019-01-06           2019-01-05             2019-01-06   \n",
       "\n",
       "  due_in_date invoice_currency document type  total_open_amount  \\\n",
       "0  2019-06-10              USD            RV           74012.75   \n",
       "1  2019-02-13              USD            RV           14148.84   \n",
       "2  2020-03-14              USD            RV           10314.24   \n",
       "3  2019-07-04              USD            RV            2952.77   \n",
       "4  2019-05-15              USD            RV           11562.16   \n",
       "5  2019-10-23              USD            RV             257.30   \n",
       "6  2019-06-25              USD            RV            1061.39   \n",
       "7  2020-04-09              USD            RV           39394.40   \n",
       "8  2019-01-24              USD            RV            8106.68   \n",
       "9  2019-01-21              USD            RV           17195.45   \n",
       "\n",
       "  baseline_create_date cust_payment_terms    invoice_id  isOpen  \n",
       "0           2019-05-26               NAH4  1.929378e+09       0  \n",
       "1           2019-01-29               NAH4  1.928703e+09       0  \n",
       "2           2020-02-28               NAA8  1.930571e+09       1  \n",
       "3           2019-06-19               NAU5  1.929517e+09       0  \n",
       "4           2019-04-10               NAG2  1.929107e+09       0  \n",
       "5           2019-10-08               NAA8  1.929981e+09       0  \n",
       "6           2019-06-10               NAA8  1.929461e+09       0  \n",
       "7           2020-03-25               NAA8  1.930688e+09       1  \n",
       "8           2019-01-01               NAM4  1.928560e+09       0  \n",
       "9           2019-01-06               NAH4  1.928578e+09       0  "
      ]
     },
     "execution_count": 13,
     "metadata": {},
     "output_type": "execute_result"
    }
   ],
   "source": [
    "data.head(10)"
   ]
  },
  {
   "cell_type": "markdown",
   "metadata": {},
   "source": [
    "#### creating a column which contains difference between the date it was cleared and the due date"
   ]
  },
  {
   "cell_type": "code",
   "execution_count": 14,
   "metadata": {},
   "outputs": [],
   "source": [
    "data['datedifference']=(data['clear_date']-data['due_in_date']).dt.days"
   ]
  },
  {
   "cell_type": "code",
   "execution_count": 15,
   "metadata": {
    "scrolled": true
   },
   "outputs": [
    {
     "data": {
      "text/plain": [
       "business_code                     object\n",
       "cust_number                       object\n",
       "name_customer                     object\n",
       "clear_date                datetime64[ns]\n",
       "buisness_year                    float64\n",
       "doc_id                           float64\n",
       "posting_date              datetime64[ns]\n",
       "document_create_date      datetime64[ns]\n",
       "document_create_date.1    datetime64[ns]\n",
       "due_in_date               datetime64[ns]\n",
       "invoice_currency                  object\n",
       "document type                     object\n",
       "total_open_amount                float64\n",
       "baseline_create_date      datetime64[ns]\n",
       "cust_payment_terms                object\n",
       "invoice_id                       float64\n",
       "isOpen                             int64\n",
       "datedifference                   float64\n",
       "dtype: object"
      ]
     },
     "execution_count": 15,
     "metadata": {},
     "output_type": "execute_result"
    }
   ],
   "source": [
    "data.dtypes"
   ]
  },
  {
   "cell_type": "markdown",
   "metadata": {},
   "source": [
    "#### create a column which stores the month of posting date"
   ]
  },
  {
   "cell_type": "code",
   "execution_count": 16,
   "metadata": {},
   "outputs": [],
   "source": [
    "data['month']=data['posting_date'].dt.month"
   ]
  },
  {
   "cell_type": "code",
   "execution_count": 17,
   "metadata": {},
   "outputs": [
    {
     "data": {
      "text/html": [
       "<div>\n",
       "<style scoped>\n",
       "    .dataframe tbody tr th:only-of-type {\n",
       "        vertical-align: middle;\n",
       "    }\n",
       "\n",
       "    .dataframe tbody tr th {\n",
       "        vertical-align: top;\n",
       "    }\n",
       "\n",
       "    .dataframe thead th {\n",
       "        text-align: right;\n",
       "    }\n",
       "</style>\n",
       "<table border=\"1\" class=\"dataframe\">\n",
       "  <thead>\n",
       "    <tr style=\"text-align: right;\">\n",
       "      <th></th>\n",
       "      <th>business_code</th>\n",
       "      <th>cust_number</th>\n",
       "      <th>name_customer</th>\n",
       "      <th>clear_date</th>\n",
       "      <th>buisness_year</th>\n",
       "      <th>doc_id</th>\n",
       "      <th>posting_date</th>\n",
       "      <th>document_create_date</th>\n",
       "      <th>document_create_date.1</th>\n",
       "      <th>due_in_date</th>\n",
       "      <th>invoice_currency</th>\n",
       "      <th>document type</th>\n",
       "      <th>total_open_amount</th>\n",
       "      <th>baseline_create_date</th>\n",
       "      <th>cust_payment_terms</th>\n",
       "      <th>invoice_id</th>\n",
       "      <th>isOpen</th>\n",
       "      <th>datedifference</th>\n",
       "      <th>month</th>\n",
       "    </tr>\n",
       "  </thead>\n",
       "  <tbody>\n",
       "    <tr>\n",
       "      <th>36608</th>\n",
       "      <td>U001</td>\n",
       "      <td>0200230690</td>\n",
       "      <td>DECA systems</td>\n",
       "      <td>2019-09-03</td>\n",
       "      <td>2019.0</td>\n",
       "      <td>1.929762e+09</td>\n",
       "      <td>2019-08-19</td>\n",
       "      <td>2019-08-19</td>\n",
       "      <td>2019-08-19</td>\n",
       "      <td>2019-09-08</td>\n",
       "      <td>USD</td>\n",
       "      <td>RV</td>\n",
       "      <td>136.44</td>\n",
       "      <td>2019-08-16</td>\n",
       "      <td>NAM4</td>\n",
       "      <td>1.929762e+09</td>\n",
       "      <td>0</td>\n",
       "      <td>-5.0</td>\n",
       "      <td>8</td>\n",
       "    </tr>\n",
       "    <tr>\n",
       "      <th>17069</th>\n",
       "      <td>U001</td>\n",
       "      <td>0200769623</td>\n",
       "      <td>WAL-MAR systems</td>\n",
       "      <td>NaT</td>\n",
       "      <td>2020.0</td>\n",
       "      <td>1.930675e+09</td>\n",
       "      <td>2020-03-20</td>\n",
       "      <td>2020-03-20</td>\n",
       "      <td>2020-03-20</td>\n",
       "      <td>2020-04-04</td>\n",
       "      <td>USD</td>\n",
       "      <td>RV</td>\n",
       "      <td>1695.68</td>\n",
       "      <td>2020-03-20</td>\n",
       "      <td>NAH4</td>\n",
       "      <td>1.930675e+09</td>\n",
       "      <td>1</td>\n",
       "      <td>NaN</td>\n",
       "      <td>3</td>\n",
       "    </tr>\n",
       "    <tr>\n",
       "      <th>45138</th>\n",
       "      <td>U001</td>\n",
       "      <td>0200764795</td>\n",
       "      <td>SYSCO  llc</td>\n",
       "      <td>2019-07-22</td>\n",
       "      <td>2019.0</td>\n",
       "      <td>1.929559e+09</td>\n",
       "      <td>2019-07-04</td>\n",
       "      <td>2019-06-29</td>\n",
       "      <td>2019-07-04</td>\n",
       "      <td>2019-07-19</td>\n",
       "      <td>USD</td>\n",
       "      <td>RV</td>\n",
       "      <td>31824.34</td>\n",
       "      <td>2019-07-04</td>\n",
       "      <td>NAA8</td>\n",
       "      <td>1.929559e+09</td>\n",
       "      <td>0</td>\n",
       "      <td>3.0</td>\n",
       "      <td>7</td>\n",
       "    </tr>\n",
       "    <tr>\n",
       "      <th>46589</th>\n",
       "      <td>U001</td>\n",
       "      <td>0200739006</td>\n",
       "      <td>AL</td>\n",
       "      <td>2019-11-04</td>\n",
       "      <td>2019.0</td>\n",
       "      <td>1.930014e+09</td>\n",
       "      <td>2019-10-15</td>\n",
       "      <td>2019-10-15</td>\n",
       "      <td>2019-10-15</td>\n",
       "      <td>2019-10-30</td>\n",
       "      <td>USD</td>\n",
       "      <td>RV</td>\n",
       "      <td>24294.84</td>\n",
       "      <td>2019-10-15</td>\n",
       "      <td>NAA8</td>\n",
       "      <td>1.930014e+09</td>\n",
       "      <td>0</td>\n",
       "      <td>5.0</td>\n",
       "      <td>10</td>\n",
       "    </tr>\n",
       "    <tr>\n",
       "      <th>12915</th>\n",
       "      <td>U001</td>\n",
       "      <td>0200126819</td>\n",
       "      <td>MCLANE corp</td>\n",
       "      <td>2019-12-27</td>\n",
       "      <td>2019.0</td>\n",
       "      <td>1.930260e+09</td>\n",
       "      <td>2019-12-11</td>\n",
       "      <td>2019-12-10</td>\n",
       "      <td>2019-12-11</td>\n",
       "      <td>2019-12-26</td>\n",
       "      <td>USD</td>\n",
       "      <td>RV</td>\n",
       "      <td>34426.68</td>\n",
       "      <td>2019-12-11</td>\n",
       "      <td>NAA8</td>\n",
       "      <td>1.930260e+09</td>\n",
       "      <td>0</td>\n",
       "      <td>1.0</td>\n",
       "      <td>12</td>\n",
       "    </tr>\n",
       "    <tr>\n",
       "      <th>3109</th>\n",
       "      <td>U001</td>\n",
       "      <td>0200719300</td>\n",
       "      <td>SYSTEMS systems</td>\n",
       "      <td>2019-07-30</td>\n",
       "      <td>2019.0</td>\n",
       "      <td>1.929521e+09</td>\n",
       "      <td>2019-06-27</td>\n",
       "      <td>2019-06-21</td>\n",
       "      <td>2019-06-27</td>\n",
       "      <td>2019-07-29</td>\n",
       "      <td>USD</td>\n",
       "      <td>RV</td>\n",
       "      <td>12751.80</td>\n",
       "      <td>2019-06-27</td>\n",
       "      <td>NA32</td>\n",
       "      <td>1.929521e+09</td>\n",
       "      <td>0</td>\n",
       "      <td>1.0</td>\n",
       "      <td>6</td>\n",
       "    </tr>\n",
       "    <tr>\n",
       "      <th>20101</th>\n",
       "      <td>U001</td>\n",
       "      <td>0200984794</td>\n",
       "      <td>GREA corporation</td>\n",
       "      <td>2019-06-14</td>\n",
       "      <td>2019.0</td>\n",
       "      <td>1.929400e+09</td>\n",
       "      <td>2019-05-29</td>\n",
       "      <td>2019-05-29</td>\n",
       "      <td>2019-05-29</td>\n",
       "      <td>2019-06-13</td>\n",
       "      <td>USD</td>\n",
       "      <td>RV</td>\n",
       "      <td>10043.32</td>\n",
       "      <td>2019-05-29</td>\n",
       "      <td>NAA8</td>\n",
       "      <td>1.929400e+09</td>\n",
       "      <td>0</td>\n",
       "      <td>1.0</td>\n",
       "      <td>5</td>\n",
       "    </tr>\n",
       "    <tr>\n",
       "      <th>40220</th>\n",
       "      <td>U001</td>\n",
       "      <td>0200704045</td>\n",
       "      <td>RA llc</td>\n",
       "      <td>2020-01-22</td>\n",
       "      <td>2020.0</td>\n",
       "      <td>1.930372e+09</td>\n",
       "      <td>2020-01-07</td>\n",
       "      <td>2020-01-08</td>\n",
       "      <td>2020-01-07</td>\n",
       "      <td>2020-01-22</td>\n",
       "      <td>USD</td>\n",
       "      <td>RV</td>\n",
       "      <td>21366.40</td>\n",
       "      <td>2020-01-07</td>\n",
       "      <td>NAA8</td>\n",
       "      <td>1.930372e+09</td>\n",
       "      <td>0</td>\n",
       "      <td>0.0</td>\n",
       "      <td>1</td>\n",
       "    </tr>\n",
       "    <tr>\n",
       "      <th>8175</th>\n",
       "      <td>U001</td>\n",
       "      <td>0200726979</td>\n",
       "      <td>BJ'S  corp</td>\n",
       "      <td>2019-10-02</td>\n",
       "      <td>2019.0</td>\n",
       "      <td>1.929881e+09</td>\n",
       "      <td>2019-09-17</td>\n",
       "      <td>2019-09-16</td>\n",
       "      <td>2019-09-17</td>\n",
       "      <td>2019-10-02</td>\n",
       "      <td>USD</td>\n",
       "      <td>RV</td>\n",
       "      <td>27.60</td>\n",
       "      <td>2019-09-17</td>\n",
       "      <td>NAA8</td>\n",
       "      <td>1.929881e+09</td>\n",
       "      <td>0</td>\n",
       "      <td>0.0</td>\n",
       "      <td>9</td>\n",
       "    </tr>\n",
       "    <tr>\n",
       "      <th>18027</th>\n",
       "      <td>U001</td>\n",
       "      <td>0200769623</td>\n",
       "      <td>WAL-MAR associates</td>\n",
       "      <td>2019-07-08</td>\n",
       "      <td>2019.0</td>\n",
       "      <td>1.929521e+09</td>\n",
       "      <td>2019-06-26</td>\n",
       "      <td>2019-06-21</td>\n",
       "      <td>2019-06-26</td>\n",
       "      <td>2019-07-11</td>\n",
       "      <td>USD</td>\n",
       "      <td>RV</td>\n",
       "      <td>19263.74</td>\n",
       "      <td>2019-06-26</td>\n",
       "      <td>NAH4</td>\n",
       "      <td>1.929521e+09</td>\n",
       "      <td>0</td>\n",
       "      <td>-3.0</td>\n",
       "      <td>6</td>\n",
       "    </tr>\n",
       "  </tbody>\n",
       "</table>\n",
       "</div>"
      ],
      "text/plain": [
       "      business_code cust_number       name_customer clear_date  buisness_year  \\\n",
       "36608          U001  0200230690        DECA systems 2019-09-03         2019.0   \n",
       "17069          U001  0200769623     WAL-MAR systems        NaT         2020.0   \n",
       "45138          U001  0200764795          SYSCO  llc 2019-07-22         2019.0   \n",
       "46589          U001  0200739006                 AL  2019-11-04         2019.0   \n",
       "12915          U001  0200126819         MCLANE corp 2019-12-27         2019.0   \n",
       "3109           U001  0200719300     SYSTEMS systems 2019-07-30         2019.0   \n",
       "20101          U001  0200984794    GREA corporation 2019-06-14         2019.0   \n",
       "40220          U001  0200704045              RA llc 2020-01-22         2020.0   \n",
       "8175           U001  0200726979          BJ'S  corp 2019-10-02         2019.0   \n",
       "18027          U001  0200769623  WAL-MAR associates 2019-07-08         2019.0   \n",
       "\n",
       "             doc_id posting_date document_create_date document_create_date.1  \\\n",
       "36608  1.929762e+09   2019-08-19           2019-08-19             2019-08-19   \n",
       "17069  1.930675e+09   2020-03-20           2020-03-20             2020-03-20   \n",
       "45138  1.929559e+09   2019-07-04           2019-06-29             2019-07-04   \n",
       "46589  1.930014e+09   2019-10-15           2019-10-15             2019-10-15   \n",
       "12915  1.930260e+09   2019-12-11           2019-12-10             2019-12-11   \n",
       "3109   1.929521e+09   2019-06-27           2019-06-21             2019-06-27   \n",
       "20101  1.929400e+09   2019-05-29           2019-05-29             2019-05-29   \n",
       "40220  1.930372e+09   2020-01-07           2020-01-08             2020-01-07   \n",
       "8175   1.929881e+09   2019-09-17           2019-09-16             2019-09-17   \n",
       "18027  1.929521e+09   2019-06-26           2019-06-21             2019-06-26   \n",
       "\n",
       "      due_in_date invoice_currency document type  total_open_amount  \\\n",
       "36608  2019-09-08              USD            RV             136.44   \n",
       "17069  2020-04-04              USD            RV            1695.68   \n",
       "45138  2019-07-19              USD            RV           31824.34   \n",
       "46589  2019-10-30              USD            RV           24294.84   \n",
       "12915  2019-12-26              USD            RV           34426.68   \n",
       "3109   2019-07-29              USD            RV           12751.80   \n",
       "20101  2019-06-13              USD            RV           10043.32   \n",
       "40220  2020-01-22              USD            RV           21366.40   \n",
       "8175   2019-10-02              USD            RV              27.60   \n",
       "18027  2019-07-11              USD            RV           19263.74   \n",
       "\n",
       "      baseline_create_date cust_payment_terms    invoice_id  isOpen  \\\n",
       "36608           2019-08-16               NAM4  1.929762e+09       0   \n",
       "17069           2020-03-20               NAH4  1.930675e+09       1   \n",
       "45138           2019-07-04               NAA8  1.929559e+09       0   \n",
       "46589           2019-10-15               NAA8  1.930014e+09       0   \n",
       "12915           2019-12-11               NAA8  1.930260e+09       0   \n",
       "3109            2019-06-27               NA32  1.929521e+09       0   \n",
       "20101           2019-05-29               NAA8  1.929400e+09       0   \n",
       "40220           2020-01-07               NAA8  1.930372e+09       0   \n",
       "8175            2019-09-17               NAA8  1.929881e+09       0   \n",
       "18027           2019-06-26               NAH4  1.929521e+09       0   \n",
       "\n",
       "       datedifference  month  \n",
       "36608            -5.0      8  \n",
       "17069             NaN      3  \n",
       "45138             3.0      7  \n",
       "46589             5.0     10  \n",
       "12915             1.0     12  \n",
       "3109              1.0      6  \n",
       "20101             1.0      5  \n",
       "40220             0.0      1  \n",
       "8175              0.0      9  \n",
       "18027            -3.0      6  "
      ]
     },
     "execution_count": 17,
     "metadata": {},
     "output_type": "execute_result"
    }
   ],
   "source": [
    "data.sample(10)"
   ]
  },
  {
   "cell_type": "code",
   "execution_count": 18,
   "metadata": {},
   "outputs": [
    {
     "data": {
      "text/plain": [
       "business_code                 6\n",
       "cust_number                1422\n",
       "name_customer              4137\n",
       "clear_date                  392\n",
       "buisness_year                 2\n",
       "doc_id                    48874\n",
       "posting_date                501\n",
       "document_create_date        504\n",
       "document_create_date.1      501\n",
       "due_in_date                 543\n",
       "invoice_currency              2\n",
       "document type                 2\n",
       "total_open_amount         44199\n",
       "baseline_create_date        506\n",
       "cust_payment_terms           75\n",
       "invoice_id                48868\n",
       "isOpen                        2\n",
       "datedifference              179\n",
       "month                        12\n",
       "dtype: int64"
      ]
     },
     "execution_count": 18,
     "metadata": {},
     "output_type": "execute_result"
    }
   ],
   "source": [
    "data.nunique()"
   ]
  },
  {
   "cell_type": "markdown",
   "metadata": {},
   "source": [
    "#### dropping invoice id due to missing values and isopen because it has low data variance"
   ]
  },
  {
   "cell_type": "code",
   "execution_count": 19,
   "metadata": {},
   "outputs": [],
   "source": [
    "data.drop(['invoice_id'],axis=1,inplace=True)\n",
    "data.drop(['isOpen'],axis=1,inplace=True)"
   ]
  },
  {
   "cell_type": "markdown",
   "metadata": {},
   "source": [
    "#### removing outliers in data"
   ]
  },
  {
   "cell_type": "code",
   "execution_count": 20,
   "metadata": {},
   "outputs": [
    {
     "name": "stdout",
     "output_type": "stream",
     "text": [
      "150369.37654375815 \n",
      " -86151.01485533439\n"
     ]
    }
   ],
   "source": [
    "#detecting upper and lower limit for outliers of money\n",
    "factor=3\n",
    "upper_limit = data['total_open_amount'].mean () + data['total_open_amount'].std () * factor\n",
    "lower_limit = data['total_open_amount'].mean () - data['total_open_amount'].std () * factor\n",
    "print(upper_limit,\"\\n\",lower_limit)"
   ]
  },
  {
   "cell_type": "code",
   "execution_count": 21,
   "metadata": {},
   "outputs": [
    {
     "data": {
      "text/plain": [
       "(48162, 17)"
      ]
     },
     "execution_count": 21,
     "metadata": {},
     "output_type": "execute_result"
    }
   ],
   "source": [
    "#dropped the outliers\n",
    "data=data[(data['total_open_amount'] < upper_limit) & (data['total_open_amount'] > lower_limit)]\n",
    "data.shape"
   ]
  },
  {
   "cell_type": "code",
   "execution_count": 22,
   "metadata": {},
   "outputs": [],
   "source": [
    "#sorting data according to posting date\n",
    "data.sort_values(by='posting_date',inplace=True)"
   ]
  },
  {
   "cell_type": "code",
   "execution_count": 23,
   "metadata": {},
   "outputs": [],
   "source": [
    "data.reset_index(inplace=True,drop=True)"
   ]
  },
  {
   "cell_type": "code",
   "execution_count": 24,
   "metadata": {
    "scrolled": true
   },
   "outputs": [
    {
     "data": {
      "text/html": [
       "<div>\n",
       "<style scoped>\n",
       "    .dataframe tbody tr th:only-of-type {\n",
       "        vertical-align: middle;\n",
       "    }\n",
       "\n",
       "    .dataframe tbody tr th {\n",
       "        vertical-align: top;\n",
       "    }\n",
       "\n",
       "    .dataframe thead th {\n",
       "        text-align: right;\n",
       "    }\n",
       "</style>\n",
       "<table border=\"1\" class=\"dataframe\">\n",
       "  <thead>\n",
       "    <tr style=\"text-align: right;\">\n",
       "      <th></th>\n",
       "      <th>business_code</th>\n",
       "      <th>cust_number</th>\n",
       "      <th>name_customer</th>\n",
       "      <th>clear_date</th>\n",
       "      <th>buisness_year</th>\n",
       "      <th>doc_id</th>\n",
       "      <th>posting_date</th>\n",
       "      <th>document_create_date</th>\n",
       "      <th>document_create_date.1</th>\n",
       "      <th>due_in_date</th>\n",
       "      <th>invoice_currency</th>\n",
       "      <th>document type</th>\n",
       "      <th>total_open_amount</th>\n",
       "      <th>baseline_create_date</th>\n",
       "      <th>cust_payment_terms</th>\n",
       "      <th>datedifference</th>\n",
       "      <th>month</th>\n",
       "    </tr>\n",
       "  </thead>\n",
       "  <tbody>\n",
       "    <tr>\n",
       "      <th>0</th>\n",
       "      <td>U001</td>\n",
       "      <td>0200769623</td>\n",
       "      <td>WAL-MAR foundation</td>\n",
       "      <td>2019-01-15</td>\n",
       "      <td>2019.0</td>\n",
       "      <td>1.928540e+09</td>\n",
       "      <td>2018-12-30</td>\n",
       "      <td>2018-12-29</td>\n",
       "      <td>2018-12-30</td>\n",
       "      <td>2019-01-14</td>\n",
       "      <td>USD</td>\n",
       "      <td>RV</td>\n",
       "      <td>5154.91</td>\n",
       "      <td>2018-12-30</td>\n",
       "      <td>NAH4</td>\n",
       "      <td>1.0</td>\n",
       "      <td>12</td>\n",
       "    </tr>\n",
       "    <tr>\n",
       "      <th>1</th>\n",
       "      <td>U001</td>\n",
       "      <td>0200769623</td>\n",
       "      <td>WAL-MAR corporation</td>\n",
       "      <td>2019-01-09</td>\n",
       "      <td>2019.0</td>\n",
       "      <td>1.928543e+09</td>\n",
       "      <td>2018-12-30</td>\n",
       "      <td>2018-12-30</td>\n",
       "      <td>2018-12-30</td>\n",
       "      <td>2019-01-14</td>\n",
       "      <td>USD</td>\n",
       "      <td>RV</td>\n",
       "      <td>4264.18</td>\n",
       "      <td>2018-12-30</td>\n",
       "      <td>NAH4</td>\n",
       "      <td>-5.0</td>\n",
       "      <td>12</td>\n",
       "    </tr>\n",
       "    <tr>\n",
       "      <th>2</th>\n",
       "      <td>U001</td>\n",
       "      <td>0200769623</td>\n",
       "      <td>WAL-MAR corporation</td>\n",
       "      <td>2019-01-09</td>\n",
       "      <td>2019.0</td>\n",
       "      <td>1.928540e+09</td>\n",
       "      <td>2018-12-30</td>\n",
       "      <td>2018-12-29</td>\n",
       "      <td>2018-12-30</td>\n",
       "      <td>2019-01-14</td>\n",
       "      <td>USD</td>\n",
       "      <td>RV</td>\n",
       "      <td>10645.08</td>\n",
       "      <td>2018-12-30</td>\n",
       "      <td>NAH4</td>\n",
       "      <td>-5.0</td>\n",
       "      <td>12</td>\n",
       "    </tr>\n",
       "    <tr>\n",
       "      <th>3</th>\n",
       "      <td>U001</td>\n",
       "      <td>0200769623</td>\n",
       "      <td>WAL-MAR corp</td>\n",
       "      <td>2019-01-10</td>\n",
       "      <td>2019.0</td>\n",
       "      <td>1.928533e+09</td>\n",
       "      <td>2018-12-30</td>\n",
       "      <td>2018-12-29</td>\n",
       "      <td>2018-12-30</td>\n",
       "      <td>2019-01-14</td>\n",
       "      <td>USD</td>\n",
       "      <td>RV</td>\n",
       "      <td>3978.34</td>\n",
       "      <td>2018-12-30</td>\n",
       "      <td>NAH4</td>\n",
       "      <td>-4.0</td>\n",
       "      <td>12</td>\n",
       "    </tr>\n",
       "    <tr>\n",
       "      <th>4</th>\n",
       "      <td>U001</td>\n",
       "      <td>0200729290</td>\n",
       "      <td>KROGER corp</td>\n",
       "      <td>2019-01-14</td>\n",
       "      <td>2019.0</td>\n",
       "      <td>1.928541e+09</td>\n",
       "      <td>2018-12-30</td>\n",
       "      <td>2018-12-29</td>\n",
       "      <td>2018-12-30</td>\n",
       "      <td>2019-01-14</td>\n",
       "      <td>USD</td>\n",
       "      <td>RV</td>\n",
       "      <td>16967.72</td>\n",
       "      <td>2018-12-30</td>\n",
       "      <td>NAA8</td>\n",
       "      <td>0.0</td>\n",
       "      <td>12</td>\n",
       "    </tr>\n",
       "  </tbody>\n",
       "</table>\n",
       "</div>"
      ],
      "text/plain": [
       "  business_code cust_number        name_customer clear_date  buisness_year  \\\n",
       "0          U001  0200769623   WAL-MAR foundation 2019-01-15         2019.0   \n",
       "1          U001  0200769623  WAL-MAR corporation 2019-01-09         2019.0   \n",
       "2          U001  0200769623  WAL-MAR corporation 2019-01-09         2019.0   \n",
       "3          U001  0200769623         WAL-MAR corp 2019-01-10         2019.0   \n",
       "4          U001  0200729290          KROGER corp 2019-01-14         2019.0   \n",
       "\n",
       "         doc_id posting_date document_create_date document_create_date.1  \\\n",
       "0  1.928540e+09   2018-12-30           2018-12-29             2018-12-30   \n",
       "1  1.928543e+09   2018-12-30           2018-12-30             2018-12-30   \n",
       "2  1.928540e+09   2018-12-30           2018-12-29             2018-12-30   \n",
       "3  1.928533e+09   2018-12-30           2018-12-29             2018-12-30   \n",
       "4  1.928541e+09   2018-12-30           2018-12-29             2018-12-30   \n",
       "\n",
       "  due_in_date invoice_currency document type  total_open_amount  \\\n",
       "0  2019-01-14              USD            RV            5154.91   \n",
       "1  2019-01-14              USD            RV            4264.18   \n",
       "2  2019-01-14              USD            RV           10645.08   \n",
       "3  2019-01-14              USD            RV            3978.34   \n",
       "4  2019-01-14              USD            RV           16967.72   \n",
       "\n",
       "  baseline_create_date cust_payment_terms  datedifference  month  \n",
       "0           2018-12-30               NAH4             1.0     12  \n",
       "1           2018-12-30               NAH4            -5.0     12  \n",
       "2           2018-12-30               NAH4            -5.0     12  \n",
       "3           2018-12-30               NAH4            -4.0     12  \n",
       "4           2018-12-30               NAA8             0.0     12  "
      ]
     },
     "execution_count": 24,
     "metadata": {},
     "output_type": "execute_result"
    }
   ],
   "source": [
    "data.head()"
   ]
  },
  {
   "cell_type": "markdown",
   "metadata": {},
   "source": [
    "#### Encoding"
   ]
  },
  {
   "cell_type": "code",
   "execution_count": 25,
   "metadata": {},
   "outputs": [],
   "source": [
    "name_encoder =LabelEncoder()\n",
    "\n",
    "data['custnameenc']= name_encoder.fit_transform(data['name_customer'])"
   ]
  },
  {
   "cell_type": "code",
   "execution_count": 26,
   "metadata": {
    "scrolled": true
   },
   "outputs": [
    {
     "data": {
      "text/html": [
       "<div>\n",
       "<style scoped>\n",
       "    .dataframe tbody tr th:only-of-type {\n",
       "        vertical-align: middle;\n",
       "    }\n",
       "\n",
       "    .dataframe tbody tr th {\n",
       "        vertical-align: top;\n",
       "    }\n",
       "\n",
       "    .dataframe thead th {\n",
       "        text-align: right;\n",
       "    }\n",
       "</style>\n",
       "<table border=\"1\" class=\"dataframe\">\n",
       "  <thead>\n",
       "    <tr style=\"text-align: right;\">\n",
       "      <th></th>\n",
       "      <th>business_code</th>\n",
       "      <th>cust_number</th>\n",
       "      <th>name_customer</th>\n",
       "      <th>clear_date</th>\n",
       "      <th>buisness_year</th>\n",
       "      <th>doc_id</th>\n",
       "      <th>posting_date</th>\n",
       "      <th>document_create_date</th>\n",
       "      <th>document_create_date.1</th>\n",
       "      <th>due_in_date</th>\n",
       "      <th>invoice_currency</th>\n",
       "      <th>document type</th>\n",
       "      <th>total_open_amount</th>\n",
       "      <th>baseline_create_date</th>\n",
       "      <th>cust_payment_terms</th>\n",
       "      <th>datedifference</th>\n",
       "      <th>month</th>\n",
       "      <th>custnameenc</th>\n",
       "    </tr>\n",
       "  </thead>\n",
       "  <tbody>\n",
       "    <tr>\n",
       "      <th>0</th>\n",
       "      <td>U001</td>\n",
       "      <td>0200769623</td>\n",
       "      <td>WAL-MAR foundation</td>\n",
       "      <td>2019-01-15</td>\n",
       "      <td>2019.0</td>\n",
       "      <td>1.928540e+09</td>\n",
       "      <td>2018-12-30</td>\n",
       "      <td>2018-12-29</td>\n",
       "      <td>2018-12-30</td>\n",
       "      <td>2019-01-14</td>\n",
       "      <td>USD</td>\n",
       "      <td>RV</td>\n",
       "      <td>5154.91</td>\n",
       "      <td>2018-12-30</td>\n",
       "      <td>NAH4</td>\n",
       "      <td>1.0</td>\n",
       "      <td>12</td>\n",
       "      <td>3990</td>\n",
       "    </tr>\n",
       "    <tr>\n",
       "      <th>1</th>\n",
       "      <td>U001</td>\n",
       "      <td>0200769623</td>\n",
       "      <td>WAL-MAR corporation</td>\n",
       "      <td>2019-01-09</td>\n",
       "      <td>2019.0</td>\n",
       "      <td>1.928543e+09</td>\n",
       "      <td>2018-12-30</td>\n",
       "      <td>2018-12-30</td>\n",
       "      <td>2018-12-30</td>\n",
       "      <td>2019-01-14</td>\n",
       "      <td>USD</td>\n",
       "      <td>RV</td>\n",
       "      <td>4264.18</td>\n",
       "      <td>2018-12-30</td>\n",
       "      <td>NAH4</td>\n",
       "      <td>-5.0</td>\n",
       "      <td>12</td>\n",
       "      <td>3989</td>\n",
       "    </tr>\n",
       "    <tr>\n",
       "      <th>2</th>\n",
       "      <td>U001</td>\n",
       "      <td>0200769623</td>\n",
       "      <td>WAL-MAR corporation</td>\n",
       "      <td>2019-01-09</td>\n",
       "      <td>2019.0</td>\n",
       "      <td>1.928540e+09</td>\n",
       "      <td>2018-12-30</td>\n",
       "      <td>2018-12-29</td>\n",
       "      <td>2018-12-30</td>\n",
       "      <td>2019-01-14</td>\n",
       "      <td>USD</td>\n",
       "      <td>RV</td>\n",
       "      <td>10645.08</td>\n",
       "      <td>2018-12-30</td>\n",
       "      <td>NAH4</td>\n",
       "      <td>-5.0</td>\n",
       "      <td>12</td>\n",
       "      <td>3989</td>\n",
       "    </tr>\n",
       "    <tr>\n",
       "      <th>3</th>\n",
       "      <td>U001</td>\n",
       "      <td>0200769623</td>\n",
       "      <td>WAL-MAR corp</td>\n",
       "      <td>2019-01-10</td>\n",
       "      <td>2019.0</td>\n",
       "      <td>1.928533e+09</td>\n",
       "      <td>2018-12-30</td>\n",
       "      <td>2018-12-29</td>\n",
       "      <td>2018-12-30</td>\n",
       "      <td>2019-01-14</td>\n",
       "      <td>USD</td>\n",
       "      <td>RV</td>\n",
       "      <td>3978.34</td>\n",
       "      <td>2018-12-30</td>\n",
       "      <td>NAH4</td>\n",
       "      <td>-4.0</td>\n",
       "      <td>12</td>\n",
       "      <td>3988</td>\n",
       "    </tr>\n",
       "    <tr>\n",
       "      <th>4</th>\n",
       "      <td>U001</td>\n",
       "      <td>0200729290</td>\n",
       "      <td>KROGER corp</td>\n",
       "      <td>2019-01-14</td>\n",
       "      <td>2019.0</td>\n",
       "      <td>1.928541e+09</td>\n",
       "      <td>2018-12-30</td>\n",
       "      <td>2018-12-29</td>\n",
       "      <td>2018-12-30</td>\n",
       "      <td>2019-01-14</td>\n",
       "      <td>USD</td>\n",
       "      <td>RV</td>\n",
       "      <td>16967.72</td>\n",
       "      <td>2018-12-30</td>\n",
       "      <td>NAA8</td>\n",
       "      <td>0.0</td>\n",
       "      <td>12</td>\n",
       "      <td>2160</td>\n",
       "    </tr>\n",
       "  </tbody>\n",
       "</table>\n",
       "</div>"
      ],
      "text/plain": [
       "  business_code cust_number        name_customer clear_date  buisness_year  \\\n",
       "0          U001  0200769623   WAL-MAR foundation 2019-01-15         2019.0   \n",
       "1          U001  0200769623  WAL-MAR corporation 2019-01-09         2019.0   \n",
       "2          U001  0200769623  WAL-MAR corporation 2019-01-09         2019.0   \n",
       "3          U001  0200769623         WAL-MAR corp 2019-01-10         2019.0   \n",
       "4          U001  0200729290          KROGER corp 2019-01-14         2019.0   \n",
       "\n",
       "         doc_id posting_date document_create_date document_create_date.1  \\\n",
       "0  1.928540e+09   2018-12-30           2018-12-29             2018-12-30   \n",
       "1  1.928543e+09   2018-12-30           2018-12-30             2018-12-30   \n",
       "2  1.928540e+09   2018-12-30           2018-12-29             2018-12-30   \n",
       "3  1.928533e+09   2018-12-30           2018-12-29             2018-12-30   \n",
       "4  1.928541e+09   2018-12-30           2018-12-29             2018-12-30   \n",
       "\n",
       "  due_in_date invoice_currency document type  total_open_amount  \\\n",
       "0  2019-01-14              USD            RV            5154.91   \n",
       "1  2019-01-14              USD            RV            4264.18   \n",
       "2  2019-01-14              USD            RV           10645.08   \n",
       "3  2019-01-14              USD            RV            3978.34   \n",
       "4  2019-01-14              USD            RV           16967.72   \n",
       "\n",
       "  baseline_create_date cust_payment_terms  datedifference  month  custnameenc  \n",
       "0           2018-12-30               NAH4             1.0     12         3990  \n",
       "1           2018-12-30               NAH4            -5.0     12         3989  \n",
       "2           2018-12-30               NAH4            -5.0     12         3989  \n",
       "3           2018-12-30               NAH4            -4.0     12         3988  \n",
       "4           2018-12-30               NAA8             0.0     12         2160  "
      ]
     },
     "execution_count": 26,
     "metadata": {},
     "output_type": "execute_result"
    }
   ],
   "source": [
    "data.head()"
   ]
  },
  {
   "cell_type": "code",
   "execution_count": 27,
   "metadata": {
    "scrolled": true
   },
   "outputs": [
    {
     "data": {
      "text/html": [
       "<div>\n",
       "<style scoped>\n",
       "    .dataframe tbody tr th:only-of-type {\n",
       "        vertical-align: middle;\n",
       "    }\n",
       "\n",
       "    .dataframe tbody tr th {\n",
       "        vertical-align: top;\n",
       "    }\n",
       "\n",
       "    .dataframe thead th {\n",
       "        text-align: right;\n",
       "    }\n",
       "</style>\n",
       "<table border=\"1\" class=\"dataframe\">\n",
       "  <thead>\n",
       "    <tr style=\"text-align: right;\">\n",
       "      <th></th>\n",
       "      <th>cust_number</th>\n",
       "      <th>clear_date</th>\n",
       "      <th>due_in_date</th>\n",
       "      <th>total_open_amount</th>\n",
       "      <th>datedifference</th>\n",
       "      <th>month</th>\n",
       "      <th>custnameenc</th>\n",
       "    </tr>\n",
       "  </thead>\n",
       "  <tbody>\n",
       "    <tr>\n",
       "      <th>0</th>\n",
       "      <td>0200769623</td>\n",
       "      <td>2019-01-15</td>\n",
       "      <td>2019-01-14</td>\n",
       "      <td>5154.91</td>\n",
       "      <td>1.0</td>\n",
       "      <td>12</td>\n",
       "      <td>3990</td>\n",
       "    </tr>\n",
       "    <tr>\n",
       "      <th>1</th>\n",
       "      <td>0200769623</td>\n",
       "      <td>2019-01-09</td>\n",
       "      <td>2019-01-14</td>\n",
       "      <td>4264.18</td>\n",
       "      <td>-5.0</td>\n",
       "      <td>12</td>\n",
       "      <td>3989</td>\n",
       "    </tr>\n",
       "    <tr>\n",
       "      <th>2</th>\n",
       "      <td>0200769623</td>\n",
       "      <td>2019-01-09</td>\n",
       "      <td>2019-01-14</td>\n",
       "      <td>10645.08</td>\n",
       "      <td>-5.0</td>\n",
       "      <td>12</td>\n",
       "      <td>3989</td>\n",
       "    </tr>\n",
       "    <tr>\n",
       "      <th>3</th>\n",
       "      <td>0200769623</td>\n",
       "      <td>2019-01-10</td>\n",
       "      <td>2019-01-14</td>\n",
       "      <td>3978.34</td>\n",
       "      <td>-4.0</td>\n",
       "      <td>12</td>\n",
       "      <td>3988</td>\n",
       "    </tr>\n",
       "    <tr>\n",
       "      <th>4</th>\n",
       "      <td>0200729290</td>\n",
       "      <td>2019-01-14</td>\n",
       "      <td>2019-01-14</td>\n",
       "      <td>16967.72</td>\n",
       "      <td>0.0</td>\n",
       "      <td>12</td>\n",
       "      <td>2160</td>\n",
       "    </tr>\n",
       "  </tbody>\n",
       "</table>\n",
       "</div>"
      ],
      "text/plain": [
       "  cust_number clear_date due_in_date  total_open_amount  datedifference  \\\n",
       "0  0200769623 2019-01-15  2019-01-14            5154.91             1.0   \n",
       "1  0200769623 2019-01-09  2019-01-14            4264.18            -5.0   \n",
       "2  0200769623 2019-01-09  2019-01-14           10645.08            -5.0   \n",
       "3  0200769623 2019-01-10  2019-01-14            3978.34            -4.0   \n",
       "4  0200729290 2019-01-14  2019-01-14           16967.72             0.0   \n",
       "\n",
       "   month  custnameenc  \n",
       "0     12         3990  \n",
       "1     12         3989  \n",
       "2     12         3989  \n",
       "3     12         3988  \n",
       "4     12         2160  "
      ]
     },
     "execution_count": 27,
     "metadata": {},
     "output_type": "execute_result"
    }
   ],
   "source": [
    "data.drop(['business_code'],axis=1,inplace=True)\n",
    "#data.drop(['cust_number'],axis=1,inplace=True)\n",
    "data.drop(['name_customer'],axis=1,inplace=True)\n",
    "data.drop(['buisness_year'],axis=1,inplace=True)\n",
    "data.drop(['doc_id'],axis=1,inplace=True)\n",
    "data.drop(['document_create_date.1'],axis=1,inplace=True)\n",
    "data.drop(['cust_payment_terms'],axis=1,inplace=True)\n",
    "data.drop(['baseline_create_date'],axis=1,inplace=True)\n",
    "data.drop(['document type'],axis=1,inplace=True)\n",
    "data.drop(['invoice_currency'],axis=1,inplace=True)\n",
    "data.drop(['posting_date'],axis=1,inplace=True)\n",
    "data.drop(['document_create_date'],axis=1,inplace=True)\n",
    "\n",
    "data.head()"
   ]
  },
  {
   "cell_type": "code",
   "execution_count": 28,
   "metadata": {},
   "outputs": [
    {
     "data": {
      "text/plain": [
       "(9596, 7)"
      ]
     },
     "execution_count": 28,
     "metadata": {},
     "output_type": "execute_result"
    }
   ],
   "source": [
    "#seperating the rows which have no clear_date value to test set\n",
    "test=data[data['clear_date'].isnull()]\n",
    "test.shape"
   ]
  },
  {
   "cell_type": "code",
   "execution_count": 29,
   "metadata": {},
   "outputs": [
    {
     "data": {
      "text/plain": [
       "(38566, 7)"
      ]
     },
     "execution_count": 29,
     "metadata": {},
     "output_type": "execute_result"
    }
   ],
   "source": [
    "#removing rows with clear_date null value in dataframe\n",
    "data=data[data['clear_date'].notnull()]\n",
    "data.shape"
   ]
  },
  {
   "cell_type": "code",
   "execution_count": 30,
   "metadata": {
    "scrolled": true
   },
   "outputs": [
    {
     "data": {
      "text/html": [
       "<div>\n",
       "<style scoped>\n",
       "    .dataframe tbody tr th:only-of-type {\n",
       "        vertical-align: middle;\n",
       "    }\n",
       "\n",
       "    .dataframe tbody tr th {\n",
       "        vertical-align: top;\n",
       "    }\n",
       "\n",
       "    .dataframe thead th {\n",
       "        text-align: right;\n",
       "    }\n",
       "</style>\n",
       "<table border=\"1\" class=\"dataframe\">\n",
       "  <thead>\n",
       "    <tr style=\"text-align: right;\">\n",
       "      <th></th>\n",
       "      <th>cust_number</th>\n",
       "      <th>clear_date</th>\n",
       "      <th>due_in_date</th>\n",
       "      <th>total_open_amount</th>\n",
       "      <th>datedifference</th>\n",
       "      <th>month</th>\n",
       "      <th>custnameenc</th>\n",
       "    </tr>\n",
       "  </thead>\n",
       "  <tbody>\n",
       "    <tr>\n",
       "      <th>0</th>\n",
       "      <td>0200769623</td>\n",
       "      <td>2019-01-15</td>\n",
       "      <td>2019-01-14</td>\n",
       "      <td>5154.91</td>\n",
       "      <td>1.0</td>\n",
       "      <td>12</td>\n",
       "      <td>3990</td>\n",
       "    </tr>\n",
       "    <tr>\n",
       "      <th>1</th>\n",
       "      <td>0200769623</td>\n",
       "      <td>2019-01-09</td>\n",
       "      <td>2019-01-14</td>\n",
       "      <td>4264.18</td>\n",
       "      <td>-5.0</td>\n",
       "      <td>12</td>\n",
       "      <td>3989</td>\n",
       "    </tr>\n",
       "    <tr>\n",
       "      <th>2</th>\n",
       "      <td>0200769623</td>\n",
       "      <td>2019-01-09</td>\n",
       "      <td>2019-01-14</td>\n",
       "      <td>10645.08</td>\n",
       "      <td>-5.0</td>\n",
       "      <td>12</td>\n",
       "      <td>3989</td>\n",
       "    </tr>\n",
       "    <tr>\n",
       "      <th>3</th>\n",
       "      <td>0200769623</td>\n",
       "      <td>2019-01-10</td>\n",
       "      <td>2019-01-14</td>\n",
       "      <td>3978.34</td>\n",
       "      <td>-4.0</td>\n",
       "      <td>12</td>\n",
       "      <td>3988</td>\n",
       "    </tr>\n",
       "    <tr>\n",
       "      <th>4</th>\n",
       "      <td>0200729290</td>\n",
       "      <td>2019-01-14</td>\n",
       "      <td>2019-01-14</td>\n",
       "      <td>16967.72</td>\n",
       "      <td>0.0</td>\n",
       "      <td>12</td>\n",
       "      <td>2160</td>\n",
       "    </tr>\n",
       "  </tbody>\n",
       "</table>\n",
       "</div>"
      ],
      "text/plain": [
       "  cust_number clear_date due_in_date  total_open_amount  datedifference  \\\n",
       "0  0200769623 2019-01-15  2019-01-14            5154.91             1.0   \n",
       "1  0200769623 2019-01-09  2019-01-14            4264.18            -5.0   \n",
       "2  0200769623 2019-01-09  2019-01-14           10645.08            -5.0   \n",
       "3  0200769623 2019-01-10  2019-01-14            3978.34            -4.0   \n",
       "4  0200729290 2019-01-14  2019-01-14           16967.72             0.0   \n",
       "\n",
       "   month  custnameenc  \n",
       "0     12         3990  \n",
       "1     12         3989  \n",
       "2     12         3989  \n",
       "3     12         3988  \n",
       "4     12         2160  "
      ]
     },
     "execution_count": 30,
     "metadata": {},
     "output_type": "execute_result"
    }
   ],
   "source": [
    "data.head()"
   ]
  },
  {
   "cell_type": "code",
   "execution_count": 31,
   "metadata": {},
   "outputs": [],
   "source": [
    "cut_labels = ['<0','0 to 15','15 to 30','30 to 200']\n",
    "cut_bins =[-200,0,15,30,200]\n",
    "data['date diff bucket'] = pd.cut(data['datedifference'], bins=cut_bins, labels = cut_labels)"
   ]
  },
  {
   "cell_type": "code",
   "execution_count": 32,
   "metadata": {
    "scrolled": false
   },
   "outputs": [
    {
     "data": {
      "text/html": [
       "<div>\n",
       "<style scoped>\n",
       "    .dataframe tbody tr th:only-of-type {\n",
       "        vertical-align: middle;\n",
       "    }\n",
       "\n",
       "    .dataframe tbody tr th {\n",
       "        vertical-align: top;\n",
       "    }\n",
       "\n",
       "    .dataframe thead th {\n",
       "        text-align: right;\n",
       "    }\n",
       "</style>\n",
       "<table border=\"1\" class=\"dataframe\">\n",
       "  <thead>\n",
       "    <tr style=\"text-align: right;\">\n",
       "      <th></th>\n",
       "      <th>cust_number</th>\n",
       "      <th>clear_date</th>\n",
       "      <th>due_in_date</th>\n",
       "      <th>total_open_amount</th>\n",
       "      <th>datedifference</th>\n",
       "      <th>month</th>\n",
       "      <th>custnameenc</th>\n",
       "      <th>date diff bucket</th>\n",
       "    </tr>\n",
       "  </thead>\n",
       "  <tbody>\n",
       "    <tr>\n",
       "      <th>0</th>\n",
       "      <td>0200769623</td>\n",
       "      <td>2019-01-15</td>\n",
       "      <td>2019-01-14</td>\n",
       "      <td>5154.91</td>\n",
       "      <td>1.0</td>\n",
       "      <td>12</td>\n",
       "      <td>3990</td>\n",
       "      <td>0 to 15</td>\n",
       "    </tr>\n",
       "    <tr>\n",
       "      <th>1</th>\n",
       "      <td>0200769623</td>\n",
       "      <td>2019-01-09</td>\n",
       "      <td>2019-01-14</td>\n",
       "      <td>4264.18</td>\n",
       "      <td>-5.0</td>\n",
       "      <td>12</td>\n",
       "      <td>3989</td>\n",
       "      <td>&lt;0</td>\n",
       "    </tr>\n",
       "    <tr>\n",
       "      <th>2</th>\n",
       "      <td>0200769623</td>\n",
       "      <td>2019-01-09</td>\n",
       "      <td>2019-01-14</td>\n",
       "      <td>10645.08</td>\n",
       "      <td>-5.0</td>\n",
       "      <td>12</td>\n",
       "      <td>3989</td>\n",
       "      <td>&lt;0</td>\n",
       "    </tr>\n",
       "    <tr>\n",
       "      <th>3</th>\n",
       "      <td>0200769623</td>\n",
       "      <td>2019-01-10</td>\n",
       "      <td>2019-01-14</td>\n",
       "      <td>3978.34</td>\n",
       "      <td>-4.0</td>\n",
       "      <td>12</td>\n",
       "      <td>3988</td>\n",
       "      <td>&lt;0</td>\n",
       "    </tr>\n",
       "    <tr>\n",
       "      <th>4</th>\n",
       "      <td>0200729290</td>\n",
       "      <td>2019-01-14</td>\n",
       "      <td>2019-01-14</td>\n",
       "      <td>16967.72</td>\n",
       "      <td>0.0</td>\n",
       "      <td>12</td>\n",
       "      <td>2160</td>\n",
       "      <td>&lt;0</td>\n",
       "    </tr>\n",
       "  </tbody>\n",
       "</table>\n",
       "</div>"
      ],
      "text/plain": [
       "  cust_number clear_date due_in_date  total_open_amount  datedifference  \\\n",
       "0  0200769623 2019-01-15  2019-01-14            5154.91             1.0   \n",
       "1  0200769623 2019-01-09  2019-01-14            4264.18            -5.0   \n",
       "2  0200769623 2019-01-09  2019-01-14           10645.08            -5.0   \n",
       "3  0200769623 2019-01-10  2019-01-14            3978.34            -4.0   \n",
       "4  0200729290 2019-01-14  2019-01-14           16967.72             0.0   \n",
       "\n",
       "   month  custnameenc date diff bucket  \n",
       "0     12         3990          0 to 15  \n",
       "1     12         3989               <0  \n",
       "2     12         3989               <0  \n",
       "3     12         3988               <0  \n",
       "4     12         2160               <0  "
      ]
     },
     "execution_count": 32,
     "metadata": {},
     "output_type": "execute_result"
    }
   ],
   "source": [
    "data.head()"
   ]
  },
  {
   "cell_type": "code",
   "execution_count": 33,
   "metadata": {},
   "outputs": [
    {
     "data": {
      "text/plain": [
       "cust_number                  object\n",
       "clear_date           datetime64[ns]\n",
       "due_in_date          datetime64[ns]\n",
       "total_open_amount           float64\n",
       "datedifference              float64\n",
       "month                         int64\n",
       "custnameenc                   int32\n",
       "date diff bucket           category\n",
       "dtype: object"
      ]
     },
     "execution_count": 33,
     "metadata": {},
     "output_type": "execute_result"
    }
   ],
   "source": [
    "data.dtypes"
   ]
  },
  {
   "cell_type": "code",
   "execution_count": 34,
   "metadata": {
    "scrolled": true
   },
   "outputs": [
    {
     "data": {
      "text/html": [
       "<div>\n",
       "<style scoped>\n",
       "    .dataframe tbody tr th:only-of-type {\n",
       "        vertical-align: middle;\n",
       "    }\n",
       "\n",
       "    .dataframe tbody tr th {\n",
       "        vertical-align: top;\n",
       "    }\n",
       "\n",
       "    .dataframe thead th {\n",
       "        text-align: right;\n",
       "    }\n",
       "</style>\n",
       "<table border=\"1\" class=\"dataframe\">\n",
       "  <thead>\n",
       "    <tr style=\"text-align: right;\">\n",
       "      <th></th>\n",
       "      <th>cust_number</th>\n",
       "      <th>clear_date</th>\n",
       "      <th>due_in_date</th>\n",
       "      <th>total_open_amount</th>\n",
       "      <th>datedifference</th>\n",
       "      <th>month</th>\n",
       "      <th>custnameenc</th>\n",
       "      <th>date diff bucket</th>\n",
       "    </tr>\n",
       "  </thead>\n",
       "  <tbody>\n",
       "    <tr>\n",
       "      <th>0</th>\n",
       "      <td>0200769623</td>\n",
       "      <td>2019-01-15</td>\n",
       "      <td>2019-01-14</td>\n",
       "      <td>5154.91</td>\n",
       "      <td>1.0</td>\n",
       "      <td>12</td>\n",
       "      <td>3990</td>\n",
       "      <td>0 to 15</td>\n",
       "    </tr>\n",
       "    <tr>\n",
       "      <th>1</th>\n",
       "      <td>0200769623</td>\n",
       "      <td>2019-01-09</td>\n",
       "      <td>2019-01-14</td>\n",
       "      <td>4264.18</td>\n",
       "      <td>-5.0</td>\n",
       "      <td>12</td>\n",
       "      <td>3989</td>\n",
       "      <td>&lt;0</td>\n",
       "    </tr>\n",
       "    <tr>\n",
       "      <th>2</th>\n",
       "      <td>0200769623</td>\n",
       "      <td>2019-01-09</td>\n",
       "      <td>2019-01-14</td>\n",
       "      <td>10645.08</td>\n",
       "      <td>-5.0</td>\n",
       "      <td>12</td>\n",
       "      <td>3989</td>\n",
       "      <td>&lt;0</td>\n",
       "    </tr>\n",
       "    <tr>\n",
       "      <th>3</th>\n",
       "      <td>0200769623</td>\n",
       "      <td>2019-01-10</td>\n",
       "      <td>2019-01-14</td>\n",
       "      <td>3978.34</td>\n",
       "      <td>-4.0</td>\n",
       "      <td>12</td>\n",
       "      <td>3988</td>\n",
       "      <td>&lt;0</td>\n",
       "    </tr>\n",
       "    <tr>\n",
       "      <th>4</th>\n",
       "      <td>0200729290</td>\n",
       "      <td>2019-01-14</td>\n",
       "      <td>2019-01-14</td>\n",
       "      <td>16967.72</td>\n",
       "      <td>0.0</td>\n",
       "      <td>12</td>\n",
       "      <td>2160</td>\n",
       "      <td>&lt;0</td>\n",
       "    </tr>\n",
       "  </tbody>\n",
       "</table>\n",
       "</div>"
      ],
      "text/plain": [
       "  cust_number clear_date due_in_date  total_open_amount  datedifference  \\\n",
       "0  0200769623 2019-01-15  2019-01-14            5154.91             1.0   \n",
       "1  0200769623 2019-01-09  2019-01-14            4264.18            -5.0   \n",
       "2  0200769623 2019-01-09  2019-01-14           10645.08            -5.0   \n",
       "3  0200769623 2019-01-10  2019-01-14            3978.34            -4.0   \n",
       "4  0200729290 2019-01-14  2019-01-14           16967.72             0.0   \n",
       "\n",
       "   month  custnameenc date diff bucket  \n",
       "0     12         3990          0 to 15  \n",
       "1     12         3989               <0  \n",
       "2     12         3989               <0  \n",
       "3     12         3988               <0  \n",
       "4     12         2160               <0  "
      ]
     },
     "execution_count": 34,
     "metadata": {},
     "output_type": "execute_result"
    }
   ],
   "source": [
    "data.head()"
   ]
  },
  {
   "cell_type": "markdown",
   "metadata": {},
   "source": [
    "### Splitting the data"
   ]
  },
  {
   "cell_type": "code",
   "execution_count": 35,
   "metadata": {},
   "outputs": [
    {
     "data": {
      "text/plain": [
       "((28924, 3), (9642, 3), (28924,), (9642,))"
      ]
     },
     "execution_count": 35,
     "metadata": {},
     "output_type": "execute_result"
    }
   ],
   "source": [
    "X_train, X_test,Y_train,Y_test = train_test_split(data.drop(['datedifference','date diff bucket','due_in_date','clear_date','cust_number'],axis=1),data['datedifference'],test_size=.25,random_state=42)\n",
    "X_train.shape,X_test.shape,Y_train.shape,Y_test.shape"
   ]
  },
  {
   "cell_type": "code",
   "execution_count": 36,
   "metadata": {
    "scrolled": true
   },
   "outputs": [
    {
     "data": {
      "text/html": [
       "<div>\n",
       "<style scoped>\n",
       "    .dataframe tbody tr th:only-of-type {\n",
       "        vertical-align: middle;\n",
       "    }\n",
       "\n",
       "    .dataframe tbody tr th {\n",
       "        vertical-align: top;\n",
       "    }\n",
       "\n",
       "    .dataframe thead th {\n",
       "        text-align: right;\n",
       "    }\n",
       "</style>\n",
       "<table border=\"1\" class=\"dataframe\">\n",
       "  <thead>\n",
       "    <tr style=\"text-align: right;\">\n",
       "      <th></th>\n",
       "      <th>total_open_amount</th>\n",
       "      <th>month</th>\n",
       "      <th>custnameenc</th>\n",
       "    </tr>\n",
       "  </thead>\n",
       "  <tbody>\n",
       "    <tr>\n",
       "      <th>6445</th>\n",
       "      <td>23176.25</td>\n",
       "      <td>3</td>\n",
       "      <td>3994</td>\n",
       "    </tr>\n",
       "    <tr>\n",
       "      <th>11849</th>\n",
       "      <td>31132.09</td>\n",
       "      <td>5</td>\n",
       "      <td>2713</td>\n",
       "    </tr>\n",
       "    <tr>\n",
       "      <th>22306</th>\n",
       "      <td>14010.06</td>\n",
       "      <td>8</td>\n",
       "      <td>3189</td>\n",
       "    </tr>\n",
       "    <tr>\n",
       "      <th>32143</th>\n",
       "      <td>122398.37</td>\n",
       "      <td>12</td>\n",
       "      <td>2162</td>\n",
       "    </tr>\n",
       "    <tr>\n",
       "      <th>9870</th>\n",
       "      <td>17261.29</td>\n",
       "      <td>4</td>\n",
       "      <td>3991</td>\n",
       "    </tr>\n",
       "    <tr>\n",
       "      <th>5145</th>\n",
       "      <td>344.93</td>\n",
       "      <td>2</td>\n",
       "      <td>3994</td>\n",
       "    </tr>\n",
       "    <tr>\n",
       "      <th>11854</th>\n",
       "      <td>97601.51</td>\n",
       "      <td>5</td>\n",
       "      <td>3981</td>\n",
       "    </tr>\n",
       "    <tr>\n",
       "      <th>37794</th>\n",
       "      <td>13710.71</td>\n",
       "      <td>2</td>\n",
       "      <td>4075</td>\n",
       "    </tr>\n",
       "    <tr>\n",
       "      <th>16883</th>\n",
       "      <td>15329.56</td>\n",
       "      <td>6</td>\n",
       "      <td>122</td>\n",
       "    </tr>\n",
       "    <tr>\n",
       "      <th>971</th>\n",
       "      <td>24912.00</td>\n",
       "      <td>1</td>\n",
       "      <td>2095</td>\n",
       "    </tr>\n",
       "  </tbody>\n",
       "</table>\n",
       "</div>"
      ],
      "text/plain": [
       "       total_open_amount  month  custnameenc\n",
       "6445            23176.25      3         3994\n",
       "11849           31132.09      5         2713\n",
       "22306           14010.06      8         3189\n",
       "32143          122398.37     12         2162\n",
       "9870            17261.29      4         3991\n",
       "5145              344.93      2         3994\n",
       "11854           97601.51      5         3981\n",
       "37794           13710.71      2         4075\n",
       "16883           15329.56      6          122\n",
       "971             24912.00      1         2095"
      ]
     },
     "execution_count": 36,
     "metadata": {},
     "output_type": "execute_result"
    }
   ],
   "source": [
    "X_train.head(10)"
   ]
  },
  {
   "cell_type": "markdown",
   "metadata": {},
   "source": [
    "### EDA[exploratory data analysis]"
   ]
  },
  {
   "cell_type": "code",
   "execution_count": 37,
   "metadata": {
    "scrolled": true
   },
   "outputs": [
    {
     "data": {
      "text/plain": [
       "total_open_amount    26506\n",
       "month                   12\n",
       "custnameenc           3374\n",
       "dtype: int64"
      ]
     },
     "execution_count": 37,
     "metadata": {},
     "output_type": "execute_result"
    }
   ],
   "source": [
    "X_train.nunique()"
   ]
  },
  {
   "cell_type": "code",
   "execution_count": 38,
   "metadata": {},
   "outputs": [
    {
     "data": {
      "text/plain": [
       "total_open_amount    float64\n",
       "month                  int64\n",
       "custnameenc            int32\n",
       "dtype: object"
      ]
     },
     "execution_count": 38,
     "metadata": {},
     "output_type": "execute_result"
    }
   ],
   "source": [
    "X_train.dtypes"
   ]
  },
  {
   "cell_type": "code",
   "execution_count": 39,
   "metadata": {
    "scrolled": false
   },
   "outputs": [
    {
     "data": {
      "text/plain": [
       "count     28924.000000\n",
       "mean      29074.482915\n",
       "std       32037.412128\n",
       "min           4.290000\n",
       "25%        4370.080000\n",
       "50%       16769.635000\n",
       "75%       44447.875000\n",
       "max      150322.210000\n",
       "Name: total_open_amount, dtype: float64"
      ]
     },
     "execution_count": 39,
     "metadata": {},
     "output_type": "execute_result"
    }
   ],
   "source": [
    "X_train['total_open_amount'].describe()"
   ]
  },
  {
   "cell_type": "code",
   "execution_count": 40,
   "metadata": {
    "scrolled": false
   },
   "outputs": [
    {
     "data": {
      "text/plain": [
       "<matplotlib.axes._subplots.AxesSubplot at 0x19cacf03248>"
      ]
     },
     "execution_count": 40,
     "metadata": {},
     "output_type": "execute_result"
    },
    {
     "data": {
      "image/png": "[encoded data removed]",
      "text/plain": [
       "<Figure size 432x288 with 1 Axes>"
      ]
     },
     "metadata": {
      "needs_background": "light"
     },
     "output_type": "display_data"
    }
   ],
   "source": [
    "sns.boxplot(X_train['total_open_amount'])"
   ]
  },
  {
   "cell_type": "markdown",
   "metadata": {},
   "source": [
    "the amount borrowed is always near to 20000"
   ]
  },
  {
   "cell_type": "code",
   "execution_count": 41,
   "metadata": {
    "scrolled": false
   },
   "outputs": [
    {
     "data": {
      "text/plain": [
       "<matplotlib.axes._subplots.AxesSubplot at 0x19cacf05188>"
      ]
     },
     "execution_count": 41,
     "metadata": {},
     "output_type": "execute_result"
    },
    {
     "data": {
      "image/png": "[encoded data removed]",
      "text/plain": [
       "<Figure size 432x288 with 1 Axes>"
      ]
     },
     "metadata": {
      "needs_background": "light"
     },
     "output_type": "display_data"
    }
   ],
   "source": [
    "sns.kdeplot(X_train['total_open_amount'])"
   ]
  },
  {
   "cell_type": "markdown",
   "metadata": {},
   "source": [
    "Graph is right skewed"
   ]
  },
  {
   "cell_type": "code",
   "execution_count": 42,
   "metadata": {},
   "outputs": [
    {
     "data": {
      "text/plain": [
       "<matplotlib.axes._subplots.AxesSubplot at 0x19caeb6b988>"
      ]
     },
     "execution_count": 42,
     "metadata": {},
     "output_type": "execute_result"
    },
    {
     "data": {
      "image/png": "[encoded data removed]",
      "text/plain": [
       "<Figure size 432x288 with 1 Axes>"
      ]
     },
     "metadata": {
      "needs_background": "light"
     },
     "output_type": "display_data"
    }
   ],
   "source": [
    "sns.regplot(x=X_train[\"custnameenc\"], y=X_train[\"total_open_amount\"])"
   ]
  },
  {
   "cell_type": "code",
   "execution_count": 43,
   "metadata": {},
   "outputs": [
    {
     "data": {
      "text/html": [
       "<div>\n",
       "<style scoped>\n",
       "    .dataframe tbody tr th:only-of-type {\n",
       "        vertical-align: middle;\n",
       "    }\n",
       "\n",
       "    .dataframe tbody tr th {\n",
       "        vertical-align: top;\n",
       "    }\n",
       "\n",
       "    .dataframe thead th {\n",
       "        text-align: right;\n",
       "    }\n",
       "</style>\n",
       "<table border=\"1\" class=\"dataframe\">\n",
       "  <thead>\n",
       "    <tr style=\"text-align: right;\">\n",
       "      <th></th>\n",
       "      <th>total_open_amount</th>\n",
       "      <th>month</th>\n",
       "      <th>custnameenc</th>\n",
       "    </tr>\n",
       "  </thead>\n",
       "  <tbody>\n",
       "    <tr>\n",
       "      <th>total_open_amount</th>\n",
       "      <td>1.000000</td>\n",
       "      <td>0.022510</td>\n",
       "      <td>-0.000704</td>\n",
       "    </tr>\n",
       "    <tr>\n",
       "      <th>month</th>\n",
       "      <td>0.022510</td>\n",
       "      <td>1.000000</td>\n",
       "      <td>0.011347</td>\n",
       "    </tr>\n",
       "    <tr>\n",
       "      <th>custnameenc</th>\n",
       "      <td>-0.000704</td>\n",
       "      <td>0.011347</td>\n",
       "      <td>1.000000</td>\n",
       "    </tr>\n",
       "  </tbody>\n",
       "</table>\n",
       "</div>"
      ],
      "text/plain": [
       "                   total_open_amount     month  custnameenc\n",
       "total_open_amount           1.000000  0.022510    -0.000704\n",
       "month                       0.022510  1.000000     0.011347\n",
       "custnameenc                -0.000704  0.011347     1.000000"
      ]
     },
     "execution_count": 43,
     "metadata": {},
     "output_type": "execute_result"
    }
   ],
   "source": [
    "X_train.corr()"
   ]
  },
  {
   "cell_type": "code",
   "execution_count": 44,
   "metadata": {
    "scrolled": true
   },
   "outputs": [
    {
     "data": {
      "text/plain": [
       "<matplotlib.axes._subplots.AxesSubplot at 0x19caeb52f88>"
      ]
     },
     "execution_count": 44,
     "metadata": {},
     "output_type": "execute_result"
    },
    {
     "data": {
      "image/png": "[encoded data removed]",
      "text/plain": [
       "<Figure size 432x288 with 1 Axes>"
      ]
     },
     "metadata": {
      "needs_background": "light"
     },
     "output_type": "display_data"
    }
   ],
   "source": [
    "sns.countplot(X_train['month'])"
   ]
  },
  {
   "cell_type": "markdown",
   "metadata": {},
   "source": [
    "most of the business is done in january and feburary"
   ]
  },
  {
   "cell_type": "markdown",
   "metadata": {},
   "source": [
    "### feature selection"
   ]
  },
  {
   "cell_type": "code",
   "execution_count": 45,
   "metadata": {},
   "outputs": [
    {
     "data": {
      "text/plain": [
       "3"
      ]
     },
     "execution_count": 45,
     "metadata": {},
     "output_type": "execute_result"
    }
   ],
   "source": [
    "constant_filter = VarianceThreshold(threshold=0)\n",
    "constant_filter.fit(X_train)\n",
    "#the number of non-constant features.\n",
    "len(X_train.columns[constant_filter.get_support()])"
   ]
  },
  {
   "cell_type": "code",
   "execution_count": 46,
   "metadata": {},
   "outputs": [
    {
     "name": "stdout",
     "output_type": "stream",
     "text": [
      "0\n"
     ]
    }
   ],
   "source": [
    "constant_columns = [column for column in X_train.columns\n",
    "                    if column not in X_train.columns[constant_filter.get_support()]]\n",
    "\n",
    "print(len(constant_columns))"
   ]
  },
  {
   "cell_type": "code",
   "execution_count": 47,
   "metadata": {},
   "outputs": [
    {
     "data": {
      "text/plain": [
       "(28924, 3)"
      ]
     },
     "execution_count": 47,
     "metadata": {},
     "output_type": "execute_result"
    }
   ],
   "source": [
    "X_train.shape"
   ]
  },
  {
   "cell_type": "code",
   "execution_count": 48,
   "metadata": {},
   "outputs": [
    {
     "name": "stdout",
     "output_type": "stream",
     "text": [
      "0\n"
     ]
    }
   ],
   "source": [
    "X_train_T = X_train.T\n",
    "# print the number of duplicated features\n",
    "print(X_train_T.duplicated().sum())\n",
    "# select the duplicated features columns names\n",
    "duplicated_columns = X_train_T[X_train_T.duplicated()].index.values"
   ]
  },
  {
   "cell_type": "code",
   "execution_count": 49,
   "metadata": {},
   "outputs": [
    {
     "data": {
      "text/plain": [
       "array([], dtype=object)"
      ]
     },
     "execution_count": 49,
     "metadata": {},
     "output_type": "execute_result"
    }
   ],
   "source": [
    "duplicated_columns"
   ]
  },
  {
   "cell_type": "code",
   "execution_count": 50,
   "metadata": {},
   "outputs": [
    {
     "data": {
      "text/plain": [
       "<matplotlib.axes._subplots.AxesSubplot at 0x19cb47c2148>"
      ]
     },
     "execution_count": 50,
     "metadata": {},
     "output_type": "execute_result"
    },
    {
     "data": {
      "image/png": "[encoded data removed]",
      "text/plain": [
       "<Figure size 1008x576 with 2 Axes>"
      ]
     },
     "metadata": {
      "needs_background": "light"
     },
     "output_type": "display_data"
    }
   ],
   "source": [
    "corr=X_train.corr()\n",
    "plt.figure(figsize=(14,8))\n",
    "sns.heatmap(corr,annot=True)"
   ]
  },
  {
   "cell_type": "code",
   "execution_count": 51,
   "metadata": {},
   "outputs": [],
   "source": [
    "def tree_based_feature_importance(x_train,y_train):\n",
    "\n",
    "    model = RandomForestRegressor(n_estimators=120)\n",
    "\n",
    "    # fit the model to start training.\n",
    "    model.fit(x_train, y_train)\n",
    "\n",
    "    # get the importance of the resulting features.\n",
    "    importances = model.feature_importances_\n",
    "\n",
    "    # create a data frame for visualization.\n",
    "    final_df = pd.DataFrame({\"Features\": x_train.columns, \"Importances\":importances})\n",
    "    final_df.set_index('Importances')\n",
    "\n",
    "    # sort in descending order \n",
    "    final_df = final_df.sort_values('Importances',ascending=False)\n",
    "    \n",
    "    #visualising feature importance\n",
    "    pd.Series(model.feature_importances_, index=x_train.columns).nlargest(6).plot(kind='barh')  \n",
    "    return final_df"
   ]
  },
  {
   "cell_type": "code",
   "execution_count": 52,
   "metadata": {
    "scrolled": false
   },
   "outputs": [
    {
     "data": {
      "image/png": "[encoded data removed]",
      "text/plain": [
       "<Figure size 432x288 with 1 Axes>"
      ]
     },
     "metadata": {
      "needs_background": "light"
     },
     "output_type": "display_data"
    }
   ],
   "source": [
    "feature_importance=tree_based_feature_importance(X_train,Y_train)"
   ]
  },
  {
   "cell_type": "markdown",
   "metadata": {},
   "source": [
    "this graph shows how important a feature is in order to derive the result"
   ]
  },
  {
   "cell_type": "markdown",
   "metadata": {},
   "source": [
    "### Linear Regression"
   ]
  },
  {
   "cell_type": "code",
   "execution_count": 53,
   "metadata": {},
   "outputs": [],
   "source": [
    "MSE_Score = []\n",
    "R2_Score = []\n",
    "Algorithm = []"
   ]
  },
  {
   "cell_type": "code",
   "execution_count": 54,
   "metadata": {},
   "outputs": [],
   "source": [
    "# Fitting Simple Linear Regression to the Training Set\n",
    "Algorithm.append('Linear Regression')\n",
    "clf = LinearRegression()\n",
    "clf.fit(X_train,Y_train)\n",
    "\n",
    "# Predicting the Test Set Results\n",
    "predicted = clf.predict(X_test)"
   ]
  },
  {
   "cell_type": "code",
   "execution_count": 55,
   "metadata": {},
   "outputs": [],
   "source": [
    "MSE_Score.append(mean_squared_error(Y_test, predicted))\n",
    "R2_Score.append(r2_score(Y_test, predicted))"
   ]
  },
  {
   "cell_type": "markdown",
   "metadata": {},
   "source": [
    "### Support Vector Regression"
   ]
  },
  {
   "cell_type": "code",
   "execution_count": 56,
   "metadata": {},
   "outputs": [],
   "source": [
    "Algorithm.append('Support Vector Regression')\n",
    "clf = SVR()\n",
    "clf.fit(X_train,Y_train)\n",
    "\n",
    "# Predicting the Test Set Results\n",
    "predicted = clf.predict(X_test)"
   ]
  },
  {
   "cell_type": "code",
   "execution_count": 57,
   "metadata": {},
   "outputs": [],
   "source": [
    "MSE_Score.append(mean_squared_error(Y_test, predicted))\n",
    "R2_Score.append(r2_score(Y_test, predicted))"
   ]
  },
  {
   "cell_type": "markdown",
   "metadata": {},
   "source": [
    "### Decision Tree Regressor"
   ]
  },
  {
   "cell_type": "code",
   "execution_count": 58,
   "metadata": {},
   "outputs": [],
   "source": [
    "# Fitting Decision Tree to the Training Set\n",
    "Algorithm.append('Decision Tree Regressor')\n",
    "clf = DecisionTreeRegressor()\n",
    "clf.fit(X_train,Y_train)\n",
    "\n",
    "# Predicting the Test Set Results\n",
    "predicted = clf.predict(X_test)"
   ]
  },
  {
   "cell_type": "code",
   "execution_count": 59,
   "metadata": {},
   "outputs": [],
   "source": [
    "MSE_Score.append(mean_squared_error(Y_test, predicted))\n",
    "R2_Score.append(r2_score(Y_test, predicted))"
   ]
  },
  {
   "cell_type": "markdown",
   "metadata": {},
   "source": [
    "### Random Forest Regressor"
   ]
  },
  {
   "cell_type": "code",
   "execution_count": 60,
   "metadata": {},
   "outputs": [],
   "source": [
    "# Fitting Random Forest to the Training Set\n",
    "Algorithm.append('Random Forest Regressor')\n",
    "clf = RandomForestRegressor()\n",
    "clf.fit(X_train,Y_train)\n",
    "\n",
    "# Predicting the Test Set Results\n",
    "predicted = clf.predict(X_test)"
   ]
  },
  {
   "cell_type": "code",
   "execution_count": 61,
   "metadata": {},
   "outputs": [],
   "source": [
    "MSE_Score.append(mean_squared_error(Y_test, predicted))\n",
    "R2_Score.append(r2_score(Y_test, predicted))"
   ]
  },
  {
   "cell_type": "markdown",
   "metadata": {},
   "source": [
    "### XGB Regressor"
   ]
  },
  {
   "cell_type": "code",
   "execution_count": 62,
   "metadata": {},
   "outputs": [],
   "source": [
    "# Fitting XGB to the Training Set\n",
    "Algorithm.append('XGB Regressor')\n",
    "clf = xgb.XGBRegressor()\n",
    "clf.fit(X_train, Y_train)\n",
    "\n",
    "# Predicting the Test Set Results\n",
    "predicted = clf.predict(X_test)"
   ]
  },
  {
   "cell_type": "code",
   "execution_count": 63,
   "metadata": {},
   "outputs": [],
   "source": [
    "MSE_Score.append(mean_squared_error(Y_test, predicted))\n",
    "R2_Score.append(r2_score(Y_test, predicted))"
   ]
  },
  {
   "cell_type": "code",
   "execution_count": 64,
   "metadata": {},
   "outputs": [],
   "source": [
    "Comparison = pd.DataFrame(list(zip(Algorithm, MSE_Score, R2_Score)), columns = ['Algorithms', 'MSE Score', 'R2 Score'])"
   ]
  },
  {
   "cell_type": "code",
   "execution_count": 65,
   "metadata": {},
   "outputs": [
    {
     "data": {
      "text/html": [
       "<div>\n",
       "<style scoped>\n",
       "    .dataframe tbody tr th:only-of-type {\n",
       "        vertical-align: middle;\n",
       "    }\n",
       "\n",
       "    .dataframe tbody tr th {\n",
       "        vertical-align: top;\n",
       "    }\n",
       "\n",
       "    .dataframe thead th {\n",
       "        text-align: right;\n",
       "    }\n",
       "</style>\n",
       "<table border=\"1\" class=\"dataframe\">\n",
       "  <thead>\n",
       "    <tr style=\"text-align: right;\">\n",
       "      <th></th>\n",
       "      <th>Algorithms</th>\n",
       "      <th>MSE Score</th>\n",
       "      <th>R2 Score</th>\n",
       "    </tr>\n",
       "  </thead>\n",
       "  <tbody>\n",
       "    <tr>\n",
       "      <th>0</th>\n",
       "      <td>Linear Regression</td>\n",
       "      <td>112.698729</td>\n",
       "      <td>0.002518</td>\n",
       "    </tr>\n",
       "    <tr>\n",
       "      <th>1</th>\n",
       "      <td>Support Vector Regression</td>\n",
       "      <td>113.405958</td>\n",
       "      <td>-0.003742</td>\n",
       "    </tr>\n",
       "    <tr>\n",
       "      <th>2</th>\n",
       "      <td>Decision Tree Regressor</td>\n",
       "      <td>143.872508</td>\n",
       "      <td>-0.273398</td>\n",
       "    </tr>\n",
       "    <tr>\n",
       "      <th>3</th>\n",
       "      <td>Random Forest Regressor</td>\n",
       "      <td>82.124681</td>\n",
       "      <td>0.273125</td>\n",
       "    </tr>\n",
       "    <tr>\n",
       "      <th>4</th>\n",
       "      <td>XGB Regressor</td>\n",
       "      <td>77.280201</td>\n",
       "      <td>0.316003</td>\n",
       "    </tr>\n",
       "  </tbody>\n",
       "</table>\n",
       "</div>"
      ],
      "text/plain": [
       "                  Algorithms   MSE Score  R2 Score\n",
       "0          Linear Regression  112.698729  0.002518\n",
       "1  Support Vector Regression  113.405958 -0.003742\n",
       "2    Decision Tree Regressor  143.872508 -0.273398\n",
       "3    Random Forest Regressor   82.124681  0.273125\n",
       "4              XGB Regressor   77.280201  0.316003"
      ]
     },
     "execution_count": 65,
     "metadata": {},
     "output_type": "execute_result"
    }
   ],
   "source": [
    "Comparison"
   ]
  },
  {
   "cell_type": "markdown",
   "metadata": {},
   "source": [
    "#### XGB has least MSE so we are taking it as best option"
   ]
  },
  {
   "cell_type": "code",
   "execution_count": 66,
   "metadata": {},
   "outputs": [
    {
     "data": {
      "text/html": [
       "<div>\n",
       "<style scoped>\n",
       "    .dataframe tbody tr th:only-of-type {\n",
       "        vertical-align: middle;\n",
       "    }\n",
       "\n",
       "    .dataframe tbody tr th {\n",
       "        vertical-align: top;\n",
       "    }\n",
       "\n",
       "    .dataframe thead th {\n",
       "        text-align: right;\n",
       "    }\n",
       "</style>\n",
       "<table border=\"1\" class=\"dataframe\">\n",
       "  <thead>\n",
       "    <tr style=\"text-align: right;\">\n",
       "      <th></th>\n",
       "      <th>actual</th>\n",
       "      <th>predictions</th>\n",
       "    </tr>\n",
       "  </thead>\n",
       "  <tbody>\n",
       "    <tr>\n",
       "      <th>29656</th>\n",
       "      <td>-2.0</td>\n",
       "      <td>-2</td>\n",
       "    </tr>\n",
       "    <tr>\n",
       "      <th>3502</th>\n",
       "      <td>2.0</td>\n",
       "      <td>-2</td>\n",
       "    </tr>\n",
       "    <tr>\n",
       "      <th>12782</th>\n",
       "      <td>0.0</td>\n",
       "      <td>0</td>\n",
       "    </tr>\n",
       "    <tr>\n",
       "      <th>35101</th>\n",
       "      <td>0.0</td>\n",
       "      <td>1</td>\n",
       "    </tr>\n",
       "    <tr>\n",
       "      <th>24360</th>\n",
       "      <td>-3.0</td>\n",
       "      <td>0</td>\n",
       "    </tr>\n",
       "  </tbody>\n",
       "</table>\n",
       "</div>"
      ],
      "text/plain": [
       "       actual  predictions\n",
       "29656    -2.0           -2\n",
       "3502      2.0           -2\n",
       "12782     0.0            0\n",
       "35101     0.0            1\n",
       "24360    -3.0            0"
      ]
     },
     "execution_count": 66,
     "metadata": {},
     "output_type": "execute_result"
    }
   ],
   "source": [
    "comp=pd.DataFrame(data={'actual': Y_test,'predictions': predicted.astype(int) })\n",
    "comp.head()"
   ]
  },
  {
   "cell_type": "code",
   "execution_count": 67,
   "metadata": {},
   "outputs": [
    {
     "data": {
      "text/html": [
       "<div>\n",
       "<style scoped>\n",
       "    .dataframe tbody tr th:only-of-type {\n",
       "        vertical-align: middle;\n",
       "    }\n",
       "\n",
       "    .dataframe tbody tr th {\n",
       "        vertical-align: top;\n",
       "    }\n",
       "\n",
       "    .dataframe thead th {\n",
       "        text-align: right;\n",
       "    }\n",
       "</style>\n",
       "<table border=\"1\" class=\"dataframe\">\n",
       "  <thead>\n",
       "    <tr style=\"text-align: right;\">\n",
       "      <th></th>\n",
       "      <th>cust_number</th>\n",
       "      <th>clear_date</th>\n",
       "      <th>due_in_date</th>\n",
       "      <th>total_open_amount</th>\n",
       "      <th>datedifference</th>\n",
       "      <th>month</th>\n",
       "      <th>custnameenc</th>\n",
       "      <th>date diff bucket</th>\n",
       "      <th>actual</th>\n",
       "      <th>predictions</th>\n",
       "    </tr>\n",
       "  </thead>\n",
       "  <tbody>\n",
       "    <tr>\n",
       "      <th>4</th>\n",
       "      <td>0200729290</td>\n",
       "      <td>2019-01-14</td>\n",
       "      <td>2019-01-14</td>\n",
       "      <td>16967.72</td>\n",
       "      <td>0.0</td>\n",
       "      <td>12</td>\n",
       "      <td>2160</td>\n",
       "      <td>&lt;0</td>\n",
       "      <td>0.0</td>\n",
       "      <td>0</td>\n",
       "    </tr>\n",
       "    <tr>\n",
       "      <th>6</th>\n",
       "      <td>0200769623</td>\n",
       "      <td>2019-01-10</td>\n",
       "      <td>2019-01-14</td>\n",
       "      <td>8730.88</td>\n",
       "      <td>-4.0</td>\n",
       "      <td>12</td>\n",
       "      <td>3989</td>\n",
       "      <td>&lt;0</td>\n",
       "      <td>-4.0</td>\n",
       "      <td>-3</td>\n",
       "    </tr>\n",
       "    <tr>\n",
       "      <th>7</th>\n",
       "      <td>0200793830</td>\n",
       "      <td>2019-01-07</td>\n",
       "      <td>2019-01-14</td>\n",
       "      <td>35599.61</td>\n",
       "      <td>-7.0</td>\n",
       "      <td>12</td>\n",
       "      <td>2320</td>\n",
       "      <td>&lt;0</td>\n",
       "      <td>-7.0</td>\n",
       "      <td>-1</td>\n",
       "    </tr>\n",
       "    <tr>\n",
       "      <th>13</th>\n",
       "      <td>0200706844</td>\n",
       "      <td>2019-01-15</td>\n",
       "      <td>2019-01-14</td>\n",
       "      <td>680.78</td>\n",
       "      <td>1.0</td>\n",
       "      <td>12</td>\n",
       "      <td>4079</td>\n",
       "      <td>0 to 15</td>\n",
       "      <td>1.0</td>\n",
       "      <td>0</td>\n",
       "    </tr>\n",
       "    <tr>\n",
       "      <th>17</th>\n",
       "      <td>0200769623</td>\n",
       "      <td>2019-01-09</td>\n",
       "      <td>2019-01-14</td>\n",
       "      <td>505.85</td>\n",
       "      <td>-5.0</td>\n",
       "      <td>12</td>\n",
       "      <td>3995</td>\n",
       "      <td>&lt;0</td>\n",
       "      <td>-5.0</td>\n",
       "      <td>-1</td>\n",
       "    </tr>\n",
       "  </tbody>\n",
       "</table>\n",
       "</div>"
      ],
      "text/plain": [
       "   cust_number clear_date due_in_date  total_open_amount  datedifference  \\\n",
       "4   0200729290 2019-01-14  2019-01-14           16967.72             0.0   \n",
       "6   0200769623 2019-01-10  2019-01-14            8730.88            -4.0   \n",
       "7   0200793830 2019-01-07  2019-01-14           35599.61            -7.0   \n",
       "13  0200706844 2019-01-15  2019-01-14             680.78             1.0   \n",
       "17  0200769623 2019-01-09  2019-01-14             505.85            -5.0   \n",
       "\n",
       "    month  custnameenc date diff bucket  actual  predictions  \n",
       "4      12         2160               <0     0.0            0  \n",
       "6      12         3989               <0    -4.0           -3  \n",
       "7      12         2320               <0    -7.0           -1  \n",
       "13     12         4079          0 to 15     1.0            0  \n",
       "17     12         3995               <0    -5.0           -1  "
      ]
     },
     "execution_count": 67,
     "metadata": {},
     "output_type": "execute_result"
    }
   ],
   "source": [
    "df3 = pd.merge(data, comp, left_index=True, right_index=True)\n",
    "df3.head()"
   ]
  },
  {
   "cell_type": "code",
   "execution_count": 68,
   "metadata": {},
   "outputs": [],
   "source": [
    "cut_labels = ['<0','0 to 15','15 to 30','30 to 200']\n",
    "cut_bins =[-200,0,15,30,200]\n",
    "df3['predicted date diff bucket'] = pd.cut(df3['predictions'], bins=cut_bins, labels = cut_labels)"
   ]
  },
  {
   "cell_type": "code",
   "execution_count": 69,
   "metadata": {},
   "outputs": [
    {
     "data": {
      "text/html": [
       "<div>\n",
       "<style scoped>\n",
       "    .dataframe tbody tr th:only-of-type {\n",
       "        vertical-align: middle;\n",
       "    }\n",
       "\n",
       "    .dataframe tbody tr th {\n",
       "        vertical-align: top;\n",
       "    }\n",
       "\n",
       "    .dataframe thead th {\n",
       "        text-align: right;\n",
       "    }\n",
       "</style>\n",
       "<table border=\"1\" class=\"dataframe\">\n",
       "  <thead>\n",
       "    <tr style=\"text-align: right;\">\n",
       "      <th></th>\n",
       "      <th>cust_number</th>\n",
       "      <th>clear_date</th>\n",
       "      <th>due_in_date</th>\n",
       "      <th>total_open_amount</th>\n",
       "      <th>datedifference</th>\n",
       "      <th>month</th>\n",
       "      <th>custnameenc</th>\n",
       "      <th>date diff bucket</th>\n",
       "      <th>actual</th>\n",
       "      <th>predictions</th>\n",
       "      <th>predicted date diff bucket</th>\n",
       "    </tr>\n",
       "  </thead>\n",
       "  <tbody>\n",
       "    <tr>\n",
       "      <th>4</th>\n",
       "      <td>0200729290</td>\n",
       "      <td>2019-01-14</td>\n",
       "      <td>2019-01-14</td>\n",
       "      <td>16967.72</td>\n",
       "      <td>0.0</td>\n",
       "      <td>12</td>\n",
       "      <td>2160</td>\n",
       "      <td>&lt;0</td>\n",
       "      <td>0.0</td>\n",
       "      <td>0</td>\n",
       "      <td>&lt;0</td>\n",
       "    </tr>\n",
       "    <tr>\n",
       "      <th>6</th>\n",
       "      <td>0200769623</td>\n",
       "      <td>2019-01-10</td>\n",
       "      <td>2019-01-14</td>\n",
       "      <td>8730.88</td>\n",
       "      <td>-4.0</td>\n",
       "      <td>12</td>\n",
       "      <td>3989</td>\n",
       "      <td>&lt;0</td>\n",
       "      <td>-4.0</td>\n",
       "      <td>-3</td>\n",
       "      <td>&lt;0</td>\n",
       "    </tr>\n",
       "    <tr>\n",
       "      <th>7</th>\n",
       "      <td>0200793830</td>\n",
       "      <td>2019-01-07</td>\n",
       "      <td>2019-01-14</td>\n",
       "      <td>35599.61</td>\n",
       "      <td>-7.0</td>\n",
       "      <td>12</td>\n",
       "      <td>2320</td>\n",
       "      <td>&lt;0</td>\n",
       "      <td>-7.0</td>\n",
       "      <td>-1</td>\n",
       "      <td>&lt;0</td>\n",
       "    </tr>\n",
       "    <tr>\n",
       "      <th>13</th>\n",
       "      <td>0200706844</td>\n",
       "      <td>2019-01-15</td>\n",
       "      <td>2019-01-14</td>\n",
       "      <td>680.78</td>\n",
       "      <td>1.0</td>\n",
       "      <td>12</td>\n",
       "      <td>4079</td>\n",
       "      <td>0 to 15</td>\n",
       "      <td>1.0</td>\n",
       "      <td>0</td>\n",
       "      <td>&lt;0</td>\n",
       "    </tr>\n",
       "    <tr>\n",
       "      <th>17</th>\n",
       "      <td>0200769623</td>\n",
       "      <td>2019-01-09</td>\n",
       "      <td>2019-01-14</td>\n",
       "      <td>505.85</td>\n",
       "      <td>-5.0</td>\n",
       "      <td>12</td>\n",
       "      <td>3995</td>\n",
       "      <td>&lt;0</td>\n",
       "      <td>-5.0</td>\n",
       "      <td>-1</td>\n",
       "      <td>&lt;0</td>\n",
       "    </tr>\n",
       "  </tbody>\n",
       "</table>\n",
       "</div>"
      ],
      "text/plain": [
       "   cust_number clear_date due_in_date  total_open_amount  datedifference  \\\n",
       "4   0200729290 2019-01-14  2019-01-14           16967.72             0.0   \n",
       "6   0200769623 2019-01-10  2019-01-14            8730.88            -4.0   \n",
       "7   0200793830 2019-01-07  2019-01-14           35599.61            -7.0   \n",
       "13  0200706844 2019-01-15  2019-01-14             680.78             1.0   \n",
       "17  0200769623 2019-01-09  2019-01-14             505.85            -5.0   \n",
       "\n",
       "    month  custnameenc date diff bucket  actual  predictions  \\\n",
       "4      12         2160               <0     0.0            0   \n",
       "6      12         3989               <0    -4.0           -3   \n",
       "7      12         2320               <0    -7.0           -1   \n",
       "13     12         4079          0 to 15     1.0            0   \n",
       "17     12         3995               <0    -5.0           -1   \n",
       "\n",
       "   predicted date diff bucket  \n",
       "4                          <0  \n",
       "6                          <0  \n",
       "7                          <0  \n",
       "13                         <0  \n",
       "17                         <0  "
      ]
     },
     "execution_count": 69,
     "metadata": {},
     "output_type": "execute_result"
    }
   ],
   "source": [
    "df3.head()"
   ]
  },
  {
   "cell_type": "code",
   "execution_count": 70,
   "metadata": {},
   "outputs": [],
   "source": [
    "df3['custname']=name_encoder.inverse_transform(df3['custnameenc'])\n",
    "df3['predicted clear date']=df3['due_in_date']+pd.to_timedelta(df3['predictions'],unit='d')\n",
    "df3.drop('custnameenc',axis=1,inplace=True)\n",
    "df3.drop('datedifference',axis=1,inplace=True)\n",
    "df3.drop('due_in_date',axis=1,inplace=True)\n",
    "df3.drop('month',axis=1,inplace=True)\n",
    "df3.drop('actual',axis=1,inplace=True)\n",
    "df3.drop('predictions',axis=1,inplace=True)"
   ]
  },
  {
   "cell_type": "code",
   "execution_count": 71,
   "metadata": {},
   "outputs": [
    {
     "data": {
      "text/html": [
       "<div>\n",
       "<style scoped>\n",
       "    .dataframe tbody tr th:only-of-type {\n",
       "        vertical-align: middle;\n",
       "    }\n",
       "\n",
       "    .dataframe tbody tr th {\n",
       "        vertical-align: top;\n",
       "    }\n",
       "\n",
       "    .dataframe thead th {\n",
       "        text-align: right;\n",
       "    }\n",
       "</style>\n",
       "<table border=\"1\" class=\"dataframe\">\n",
       "  <thead>\n",
       "    <tr style=\"text-align: right;\">\n",
       "      <th></th>\n",
       "      <th>cust_number</th>\n",
       "      <th>clear_date</th>\n",
       "      <th>total_open_amount</th>\n",
       "      <th>date diff bucket</th>\n",
       "      <th>predicted date diff bucket</th>\n",
       "      <th>custname</th>\n",
       "      <th>predicted clear date</th>\n",
       "    </tr>\n",
       "  </thead>\n",
       "  <tbody>\n",
       "    <tr>\n",
       "      <th>4</th>\n",
       "      <td>0200729290</td>\n",
       "      <td>2019-01-14</td>\n",
       "      <td>16967.72</td>\n",
       "      <td>&lt;0</td>\n",
       "      <td>&lt;0</td>\n",
       "      <td>KROGER corp</td>\n",
       "      <td>2019-01-14</td>\n",
       "    </tr>\n",
       "    <tr>\n",
       "      <th>6</th>\n",
       "      <td>0200769623</td>\n",
       "      <td>2019-01-10</td>\n",
       "      <td>8730.88</td>\n",
       "      <td>&lt;0</td>\n",
       "      <td>&lt;0</td>\n",
       "      <td>WAL-MAR corporation</td>\n",
       "      <td>2019-01-11</td>\n",
       "    </tr>\n",
       "    <tr>\n",
       "      <th>7</th>\n",
       "      <td>0200793830</td>\n",
       "      <td>2019-01-07</td>\n",
       "      <td>35599.61</td>\n",
       "      <td>&lt;0</td>\n",
       "      <td>&lt;0</td>\n",
       "      <td>M co</td>\n",
       "      <td>2019-01-13</td>\n",
       "    </tr>\n",
       "    <tr>\n",
       "      <th>13</th>\n",
       "      <td>0200706844</td>\n",
       "      <td>2019-01-15</td>\n",
       "      <td>680.78</td>\n",
       "      <td>0 to 15</td>\n",
       "      <td>&lt;0</td>\n",
       "      <td>WINC us</td>\n",
       "      <td>2019-01-14</td>\n",
       "    </tr>\n",
       "    <tr>\n",
       "      <th>17</th>\n",
       "      <td>0200769623</td>\n",
       "      <td>2019-01-09</td>\n",
       "      <td>505.85</td>\n",
       "      <td>&lt;0</td>\n",
       "      <td>&lt;0</td>\n",
       "      <td>WAL-MAR us</td>\n",
       "      <td>2019-01-13</td>\n",
       "    </tr>\n",
       "  </tbody>\n",
       "</table>\n",
       "</div>"
      ],
      "text/plain": [
       "   cust_number clear_date  total_open_amount date diff bucket  \\\n",
       "4   0200729290 2019-01-14           16967.72               <0   \n",
       "6   0200769623 2019-01-10            8730.88               <0   \n",
       "7   0200793830 2019-01-07           35599.61               <0   \n",
       "13  0200706844 2019-01-15             680.78          0 to 15   \n",
       "17  0200769623 2019-01-09             505.85               <0   \n",
       "\n",
       "   predicted date diff bucket             custname predicted clear date  \n",
       "4                          <0          KROGER corp           2019-01-14  \n",
       "6                          <0  WAL-MAR corporation           2019-01-11  \n",
       "7                          <0                 M co           2019-01-13  \n",
       "13                         <0              WINC us           2019-01-14  \n",
       "17                         <0           WAL-MAR us           2019-01-13  "
      ]
     },
     "execution_count": 71,
     "metadata": {},
     "output_type": "execute_result"
    }
   ],
   "source": [
    "df3.head()"
   ]
  },
  {
   "cell_type": "code",
   "execution_count": null,
   "metadata": {},
   "outputs": [],
   "source": [
    "df3.to_csv('results.csv')"
   ]
  },
  {
   "cell_type": "code",
   "execution_count": null,
   "metadata": {},
   "outputs": [],
   "source": []
  }
 ],
 "metadata": {
  "kernelspec": {
   "display_name": "Python 3",
   "language": "python",
   "name": "python3"
  },
  "language_info": {
   "codemirror_mode": {
    "name": "ipython",
    "version": 3
   },
   "file_extension": ".py",
   "mimetype": "text/x-python",
   "name": "python",
   "nbconvert_exporter": "python",
   "pygments_lexer": "ipython3",
   "version": "3.7.7"
  }
 },
 "nbformat": 4,
 "nbformat_minor": 2
}
